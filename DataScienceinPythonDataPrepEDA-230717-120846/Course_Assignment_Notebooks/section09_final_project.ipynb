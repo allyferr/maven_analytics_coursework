{
 "cells": [
  {
   "cell_type": "markdown",
   "metadata": {},
   "source": [
    "# Final Project"
   ]
  },
  {
   "cell_type": "markdown",
   "metadata": {},
   "source": [
    "## 1. Scope the Project"
   ]
  },
  {
   "cell_type": "markdown",
   "metadata": {},
   "source": [
    "Our plan is to use a supervised learning technique to predict which customers are most likely to cancel their subscription using **the past three months of customer data which includes subscription and listening history**."
   ]
  },
  {
   "cell_type": "markdown",
   "metadata": {},
   "source": [
    "## 2. Gather Data"
   ]
  },
  {
   "cell_type": "markdown",
   "metadata": {},
   "source": [
    "Read the following files into Python:\n",
    "* Customer data: *maven_music_customers.csv*\n",
    "* Listing history: *maven_music_listening_history.xlsx*"
   ]
  },
  {
   "cell_type": "code",
   "execution_count": 96,
   "metadata": {},
   "outputs": [],
   "source": [
    "import pandas as pd\n",
    "import numpy as np"
   ]
  },
  {
   "cell_type": "code",
   "execution_count": 195,
   "metadata": {},
   "outputs": [
    {
     "data": {
      "text/html": [
       "<div>\n",
       "<style scoped>\n",
       "    .dataframe tbody tr th:only-of-type {\n",
       "        vertical-align: middle;\n",
       "    }\n",
       "\n",
       "    .dataframe tbody tr th {\n",
       "        vertical-align: top;\n",
       "    }\n",
       "\n",
       "    .dataframe thead th {\n",
       "        text-align: right;\n",
       "    }\n",
       "</style>\n",
       "<table border=\"1\" class=\"dataframe\">\n",
       "  <thead>\n",
       "    <tr style=\"text-align: right;\">\n",
       "      <th></th>\n",
       "      <th>Customer ID</th>\n",
       "      <th>Customer Name</th>\n",
       "      <th>Email</th>\n",
       "      <th>Member Since</th>\n",
       "      <th>Subscription Plan</th>\n",
       "      <th>Subscription Rate</th>\n",
       "      <th>Discount?</th>\n",
       "      <th>Cancellation Date</th>\n",
       "    </tr>\n",
       "  </thead>\n",
       "  <tbody>\n",
       "    <tr>\n",
       "      <th>0</th>\n",
       "      <td>5001</td>\n",
       "      <td>Harmony Greene</td>\n",
       "      <td>Email: harmonious.vibes@email.com</td>\n",
       "      <td>3/13/23</td>\n",
       "      <td>Basic (Ads)</td>\n",
       "      <td>$2.99</td>\n",
       "      <td>NaN</td>\n",
       "      <td>NaN</td>\n",
       "    </tr>\n",
       "    <tr>\n",
       "      <th>1</th>\n",
       "      <td>5002</td>\n",
       "      <td>Aria Keys</td>\n",
       "      <td>Email: melodious.aria@email.edu</td>\n",
       "      <td>3/13/23</td>\n",
       "      <td>NaN</td>\n",
       "      <td>$2.99</td>\n",
       "      <td>NaN</td>\n",
       "      <td>NaN</td>\n",
       "    </tr>\n",
       "    <tr>\n",
       "      <th>2</th>\n",
       "      <td>5004</td>\n",
       "      <td>Lyric Bell</td>\n",
       "      <td>Email: rhythmical.lyric@email.com</td>\n",
       "      <td>3/13/23</td>\n",
       "      <td>NaN</td>\n",
       "      <td>$2.99</td>\n",
       "      <td>NaN</td>\n",
       "      <td>6/1/23</td>\n",
       "    </tr>\n",
       "    <tr>\n",
       "      <th>3</th>\n",
       "      <td>5267</td>\n",
       "      <td>Rock Bassett</td>\n",
       "      <td>Email: groovy.rock@email.com</td>\n",
       "      <td>3/20/23</td>\n",
       "      <td>Basic (Ads)</td>\n",
       "      <td>$2.99</td>\n",
       "      <td>NaN</td>\n",
       "      <td>NaN</td>\n",
       "    </tr>\n",
       "    <tr>\n",
       "      <th>4</th>\n",
       "      <td>5338</td>\n",
       "      <td>Rhythm Dixon</td>\n",
       "      <td>Email: beats.by.rhythm@email.edu</td>\n",
       "      <td>3/20/23</td>\n",
       "      <td>NaN</td>\n",
       "      <td>$2.99</td>\n",
       "      <td>NaN</td>\n",
       "      <td>NaN</td>\n",
       "    </tr>\n",
       "  </tbody>\n",
       "</table>\n",
       "</div>"
      ],
      "text/plain": [
       "   Customer ID   Customer Name                              Email  \\\n",
       "0         5001  Harmony Greene  Email: harmonious.vibes@email.com   \n",
       "1         5002       Aria Keys    Email: melodious.aria@email.edu   \n",
       "2         5004      Lyric Bell  Email: rhythmical.lyric@email.com   \n",
       "3         5267    Rock Bassett       Email: groovy.rock@email.com   \n",
       "4         5338    Rhythm Dixon   Email: beats.by.rhythm@email.edu   \n",
       "\n",
       "  Member Since Subscription Plan Subscription Rate Discount? Cancellation Date  \n",
       "0      3/13/23       Basic (Ads)            $2.99        NaN               NaN  \n",
       "1      3/13/23               NaN            $2.99        NaN               NaN  \n",
       "2      3/13/23               NaN            $2.99        NaN            6/1/23  \n",
       "3      3/20/23       Basic (Ads)            $2.99        NaN               NaN  \n",
       "4      3/20/23               NaN            $2.99        NaN               NaN  "
      ]
     },
     "execution_count": 195,
     "metadata": {},
     "output_type": "execute_result"
    }
   ],
   "source": [
    "# Read in the customer data\n",
    "customers = pd.read_csv('../data/maven_music_customers.csv')\n",
    "\n",
    "customers.head()"
   ]
  },
  {
   "cell_type": "code",
   "execution_count": 5,
   "metadata": {},
   "outputs": [
    {
     "data": {
      "text/html": [
       "<div>\n",
       "<style scoped>\n",
       "    .dataframe tbody tr th:only-of-type {\n",
       "        vertical-align: middle;\n",
       "    }\n",
       "\n",
       "    .dataframe tbody tr th {\n",
       "        vertical-align: top;\n",
       "    }\n",
       "\n",
       "    .dataframe thead th {\n",
       "        text-align: right;\n",
       "    }\n",
       "</style>\n",
       "<table border=\"1\" class=\"dataframe\">\n",
       "  <thead>\n",
       "    <tr style=\"text-align: right;\">\n",
       "      <th></th>\n",
       "      <th>Customer ID</th>\n",
       "      <th>Session ID</th>\n",
       "      <th>Audio Order</th>\n",
       "      <th>Audio ID</th>\n",
       "      <th>Audio Type</th>\n",
       "    </tr>\n",
       "  </thead>\n",
       "  <tbody>\n",
       "    <tr>\n",
       "      <th>0</th>\n",
       "      <td>5001</td>\n",
       "      <td>100520</td>\n",
       "      <td>1</td>\n",
       "      <td>101</td>\n",
       "      <td>Song</td>\n",
       "    </tr>\n",
       "    <tr>\n",
       "      <th>1</th>\n",
       "      <td>5001</td>\n",
       "      <td>100520</td>\n",
       "      <td>2</td>\n",
       "      <td>102</td>\n",
       "      <td>Song</td>\n",
       "    </tr>\n",
       "    <tr>\n",
       "      <th>2</th>\n",
       "      <td>5001</td>\n",
       "      <td>100520</td>\n",
       "      <td>3</td>\n",
       "      <td>103</td>\n",
       "      <td>Song</td>\n",
       "    </tr>\n",
       "    <tr>\n",
       "      <th>3</th>\n",
       "      <td>5001</td>\n",
       "      <td>100520</td>\n",
       "      <td>4</td>\n",
       "      <td>104</td>\n",
       "      <td>Song</td>\n",
       "    </tr>\n",
       "    <tr>\n",
       "      <th>4</th>\n",
       "      <td>5001</td>\n",
       "      <td>100520</td>\n",
       "      <td>5</td>\n",
       "      <td>105</td>\n",
       "      <td>Song</td>\n",
       "    </tr>\n",
       "  </tbody>\n",
       "</table>\n",
       "</div>"
      ],
      "text/plain": [
       "   Customer ID  Session ID  Audio Order  Audio ID Audio Type\n",
       "0         5001      100520            1       101       Song\n",
       "1         5001      100520            2       102       Song\n",
       "2         5001      100520            3       103       Song\n",
       "3         5001      100520            4       104       Song\n",
       "4         5001      100520            5       105       Song"
      ]
     },
     "execution_count": 5,
     "metadata": {},
     "output_type": "execute_result"
    }
   ],
   "source": [
    "# Read in the listening history\n",
    "listening = pd.read_excel('../data/maven_music_listening_history.xlsx')\n",
    "\n",
    "listening.head()"
   ]
  },
  {
   "cell_type": "code",
   "execution_count": 7,
   "metadata": {},
   "outputs": [],
   "source": [
    "# Hint: Where might you find listening history data beyond the ID's?\n",
    "# Answer: Check the other sheets in the Excel spreadsheet"
   ]
  },
  {
   "cell_type": "code",
   "execution_count": 294,
   "metadata": {},
   "outputs": [
    {
     "data": {
      "text/html": [
       "<div>\n",
       "<style scoped>\n",
       "    .dataframe tbody tr th:only-of-type {\n",
       "        vertical-align: middle;\n",
       "    }\n",
       "\n",
       "    .dataframe tbody tr th {\n",
       "        vertical-align: top;\n",
       "    }\n",
       "\n",
       "    .dataframe thead th {\n",
       "        text-align: right;\n",
       "    }\n",
       "</style>\n",
       "<table border=\"1\" class=\"dataframe\">\n",
       "  <thead>\n",
       "    <tr style=\"text-align: right;\">\n",
       "      <th></th>\n",
       "      <th>ID</th>\n",
       "      <th>Name</th>\n",
       "      <th>Genre</th>\n",
       "      <th>Popularity</th>\n",
       "    </tr>\n",
       "  </thead>\n",
       "  <tbody>\n",
       "    <tr>\n",
       "      <th>0</th>\n",
       "      <td>Song-101</td>\n",
       "      <td>Dance All Night</td>\n",
       "      <td>Pop</td>\n",
       "      <td>1</td>\n",
       "    </tr>\n",
       "    <tr>\n",
       "      <th>1</th>\n",
       "      <td>Song-102</td>\n",
       "      <td>Unbreakable Beat</td>\n",
       "      <td>Pop</td>\n",
       "      <td>2</td>\n",
       "    </tr>\n",
       "    <tr>\n",
       "      <th>2</th>\n",
       "      <td>Song-103</td>\n",
       "      <td>Sunset Boulevard</td>\n",
       "      <td>Pop Music</td>\n",
       "      <td>5</td>\n",
       "    </tr>\n",
       "    <tr>\n",
       "      <th>3</th>\n",
       "      <td>Song-104</td>\n",
       "      <td>Glowing Hearts</td>\n",
       "      <td>Pop Music</td>\n",
       "      <td>10</td>\n",
       "    </tr>\n",
       "    <tr>\n",
       "      <th>4</th>\n",
       "      <td>Song-105</td>\n",
       "      <td>Pop Rocks</td>\n",
       "      <td>Pop Music</td>\n",
       "      <td>52</td>\n",
       "    </tr>\n",
       "  </tbody>\n",
       "</table>\n",
       "</div>"
      ],
      "text/plain": [
       "         ID              Name      Genre  Popularity\n",
       "0  Song-101   Dance All Night        Pop           1\n",
       "1  Song-102  Unbreakable Beat        Pop           2\n",
       "2  Song-103  Sunset Boulevard  Pop Music           5\n",
       "3  Song-104    Glowing Hearts  Pop Music          10\n",
       "4  Song-105         Pop Rocks  Pop Music          52"
      ]
     },
     "execution_count": 294,
     "metadata": {},
     "output_type": "execute_result"
    }
   ],
   "source": [
    "# Read in the audio data\n",
    "audio = pd.read_excel('../data/maven_music_listening_history.xlsx', sheet_name=1)\n",
    "\n",
    "audio.head()"
   ]
  },
  {
   "cell_type": "code",
   "execution_count": 11,
   "metadata": {},
   "outputs": [
    {
     "data": {
      "text/html": [
       "<div>\n",
       "<style scoped>\n",
       "    .dataframe tbody tr th:only-of-type {\n",
       "        vertical-align: middle;\n",
       "    }\n",
       "\n",
       "    .dataframe tbody tr th {\n",
       "        vertical-align: top;\n",
       "    }\n",
       "\n",
       "    .dataframe thead th {\n",
       "        text-align: right;\n",
       "    }\n",
       "</style>\n",
       "<table border=\"1\" class=\"dataframe\">\n",
       "  <thead>\n",
       "    <tr style=\"text-align: right;\">\n",
       "      <th></th>\n",
       "      <th>Session ID</th>\n",
       "      <th>Session Log In Time</th>\n",
       "    </tr>\n",
       "  </thead>\n",
       "  <tbody>\n",
       "    <tr>\n",
       "      <th>0</th>\n",
       "      <td>100520</td>\n",
       "      <td>2023-03-13 18:29:00</td>\n",
       "    </tr>\n",
       "    <tr>\n",
       "      <th>1</th>\n",
       "      <td>100522</td>\n",
       "      <td>2023-03-13 22:15:00</td>\n",
       "    </tr>\n",
       "    <tr>\n",
       "      <th>2</th>\n",
       "      <td>100525</td>\n",
       "      <td>2023-03-14 10:01:00</td>\n",
       "    </tr>\n",
       "    <tr>\n",
       "      <th>3</th>\n",
       "      <td>100527</td>\n",
       "      <td>2023-03-13 14:14:00</td>\n",
       "    </tr>\n",
       "    <tr>\n",
       "      <th>4</th>\n",
       "      <td>100538</td>\n",
       "      <td>2023-03-21 12:23:00</td>\n",
       "    </tr>\n",
       "  </tbody>\n",
       "</table>\n",
       "</div>"
      ],
      "text/plain": [
       "   Session ID Session Log In Time\n",
       "0      100520 2023-03-13 18:29:00\n",
       "1      100522 2023-03-13 22:15:00\n",
       "2      100525 2023-03-14 10:01:00\n",
       "3      100527 2023-03-13 14:14:00\n",
       "4      100538 2023-03-21 12:23:00"
      ]
     },
     "execution_count": 11,
     "metadata": {},
     "output_type": "execute_result"
    }
   ],
   "source": [
    "# Read in the session data\n",
    "sessions = pd.read_excel('../data/maven_music_listening_history.xlsx', sheet_name=2)\n",
    "\n",
    "sessions.head()"
   ]
  },
  {
   "cell_type": "code",
   "execution_count": null,
   "metadata": {},
   "outputs": [],
   "source": []
  },
  {
   "cell_type": "markdown",
   "metadata": {},
   "source": [
    "## 3. Clean Data"
   ]
  },
  {
   "cell_type": "markdown",
   "metadata": {},
   "source": [
    "### a. Convert Data Types"
   ]
  },
  {
   "cell_type": "markdown",
   "metadata": {},
   "source": [
    "Check the data types of the data in the tables and convert to numeric and datetime values as necessary."
   ]
  },
  {
   "cell_type": "code",
   "execution_count": 142,
   "metadata": {},
   "outputs": [
    {
     "data": {
      "text/plain": [
       "Customer ID           int64\n",
       "Customer Name        object\n",
       "Email                object\n",
       "Member Since         object\n",
       "Subscription Plan    object\n",
       "Subscription Rate    object\n",
       "Discount?            object\n",
       "Cancellation Date    object\n",
       "dtype: object"
      ]
     },
     "execution_count": 142,
     "metadata": {},
     "output_type": "execute_result"
    }
   ],
   "source": [
    "# Check the data types\n",
    "customers.dtypes"
   ]
  },
  {
   "cell_type": "code",
   "execution_count": 197,
   "metadata": {},
   "outputs": [
    {
     "name": "stderr",
     "output_type": "stream",
     "text": [
      "/var/folders/v4/7fzzxp4j30n_kxbg66tb0rj80000gn/T/ipykernel_29247/797488426.py:3: UserWarning: Could not infer format, so each element will be parsed individually, falling back to `dateutil`. To ensure parsing is consistent and as-expected, please specify a format.\n",
      "  customers['Member Since'] = pd.to_datetime(customers['Member Since'])\n",
      "/var/folders/v4/7fzzxp4j30n_kxbg66tb0rj80000gn/T/ipykernel_29247/797488426.py:5: UserWarning: Could not infer format, so each element will be parsed individually, falling back to `dateutil`. To ensure parsing is consistent and as-expected, please specify a format.\n",
      "  customers['Cancellation Date'] = pd.to_datetime(customers['Cancellation Date'])\n"
     ]
    }
   ],
   "source": [
    "# Convert objects to numeric and datetime fields\n",
    "\n",
    "customers['Member Since'] = pd.to_datetime(customers['Member Since'])\n",
    "customers['Subscription Rate'] = pd.to_numeric(customers['Subscription Rate'].str.replace('$', ''))\n",
    "customers['Cancellation Date'] = pd.to_datetime(customers['Cancellation Date'])"
   ]
  },
  {
   "cell_type": "code",
   "execution_count": 308,
   "metadata": {},
   "outputs": [
    {
     "data": {
      "text/plain": [
       "Customer ID     int64\n",
       "Session ID      int64\n",
       "Audio Order     int64\n",
       "Audio ID        int64\n",
       "Audio Type     object\n",
       "dtype: object"
      ]
     },
     "execution_count": 308,
     "metadata": {},
     "output_type": "execute_result"
    }
   ],
   "source": [
    "# Check the data types\n",
    "listening.dtypes"
   ]
  },
  {
   "cell_type": "code",
   "execution_count": 296,
   "metadata": {},
   "outputs": [
    {
     "data": {
      "text/plain": [
       "ID            object\n",
       "Name          object\n",
       "Genre         object\n",
       "Popularity     int64\n",
       "dtype: object"
      ]
     },
     "execution_count": 296,
     "metadata": {},
     "output_type": "execute_result"
    }
   ],
   "source": [
    "# Check the data types\n",
    "audio.dtypes"
   ]
  },
  {
   "cell_type": "code",
   "execution_count": 57,
   "metadata": {},
   "outputs": [
    {
     "data": {
      "text/plain": [
       "Session ID                      int64\n",
       "Session Log In Time    datetime64[ns]\n",
       "dtype: object"
      ]
     },
     "execution_count": 57,
     "metadata": {},
     "output_type": "execute_result"
    }
   ],
   "source": [
    "# Check the data types\n",
    "sessions.dtypes"
   ]
  },
  {
   "cell_type": "markdown",
   "metadata": {},
   "source": [
    "### b. Resolve Data Issues"
   ]
  },
  {
   "cell_type": "markdown",
   "metadata": {},
   "source": [
    "Check for missing data, inconsistent text and typos, duplicate data and outliers."
   ]
  },
  {
   "cell_type": "markdown",
   "metadata": {},
   "source": [
    "#### i. Missing Data"
   ]
  },
  {
   "cell_type": "code",
   "execution_count": 298,
   "metadata": {},
   "outputs": [
    {
     "data": {
      "text/plain": [
       "ID            0\n",
       "Name          0\n",
       "Genre         0\n",
       "Popularity    0\n",
       "dtype: int64"
      ]
     },
     "execution_count": 298,
     "metadata": {},
     "output_type": "execute_result"
    }
   ],
   "source": [
    "# Look for NaN values in the data\n",
    "audio.isna().sum()"
   ]
  },
  {
   "cell_type": "code",
   "execution_count": 148,
   "metadata": {},
   "outputs": [
    {
     "data": {
      "text/plain": [
       "Session ID             0\n",
       "Session Log In Time    0\n",
       "dtype: int64"
      ]
     },
     "execution_count": 148,
     "metadata": {},
     "output_type": "execute_result"
    }
   ],
   "source": [
    "# Look for NaN values in the data\n",
    "sessions.isna().sum()"
   ]
  },
  {
   "cell_type": "code",
   "execution_count": 77,
   "metadata": {},
   "outputs": [
    {
     "data": {
      "text/plain": [
       "Customer ID    0\n",
       "Session ID     0\n",
       "Audio Order    0\n",
       "Audio ID       0\n",
       "Audio Type     0\n",
       "dtype: int64"
      ]
     },
     "execution_count": 77,
     "metadata": {},
     "output_type": "execute_result"
    }
   ],
   "source": [
    "# Look for NaN values in the data\n",
    "listening.isna().sum()"
   ]
  },
  {
   "cell_type": "code",
   "execution_count": 150,
   "metadata": {},
   "outputs": [
    {
     "data": {
      "text/plain": [
       "Customer ID           0\n",
       "Customer Name         0\n",
       "Email                 0\n",
       "Member Since          0\n",
       "Subscription Plan     5\n",
       "Subscription Rate     0\n",
       "Discount?            23\n",
       "Cancellation Date    17\n",
       "dtype: int64"
      ]
     },
     "execution_count": 150,
     "metadata": {},
     "output_type": "execute_result"
    }
   ],
   "source": [
    "# Look for NaN values in the data\n",
    "customers.isna().sum()"
   ]
  },
  {
   "cell_type": "code",
   "execution_count": 152,
   "metadata": {},
   "outputs": [
    {
     "data": {
      "text/html": [
       "<div>\n",
       "<style scoped>\n",
       "    .dataframe tbody tr th:only-of-type {\n",
       "        vertical-align: middle;\n",
       "    }\n",
       "\n",
       "    .dataframe tbody tr th {\n",
       "        vertical-align: top;\n",
       "    }\n",
       "\n",
       "    .dataframe thead th {\n",
       "        text-align: right;\n",
       "    }\n",
       "</style>\n",
       "<table border=\"1\" class=\"dataframe\">\n",
       "  <thead>\n",
       "    <tr style=\"text-align: right;\">\n",
       "      <th></th>\n",
       "      <th>Customer ID</th>\n",
       "      <th>Customer Name</th>\n",
       "      <th>Email</th>\n",
       "      <th>Member Since</th>\n",
       "      <th>Subscription Plan</th>\n",
       "      <th>Subscription Rate</th>\n",
       "      <th>Discount?</th>\n",
       "      <th>Cancellation Date</th>\n",
       "    </tr>\n",
       "  </thead>\n",
       "  <tbody>\n",
       "    <tr>\n",
       "      <th>0</th>\n",
       "      <td>5001</td>\n",
       "      <td>Harmony Greene</td>\n",
       "      <td>Email: harmonious.vibes@email.com</td>\n",
       "      <td>2023-03-13</td>\n",
       "      <td>Basic (Ads)</td>\n",
       "      <td>2.99</td>\n",
       "      <td>NaN</td>\n",
       "      <td>NaT</td>\n",
       "    </tr>\n",
       "    <tr>\n",
       "      <th>1</th>\n",
       "      <td>5002</td>\n",
       "      <td>Aria Keys</td>\n",
       "      <td>Email: melodious.aria@email.edu</td>\n",
       "      <td>2023-03-13</td>\n",
       "      <td>NaN</td>\n",
       "      <td>2.99</td>\n",
       "      <td>NaN</td>\n",
       "      <td>NaT</td>\n",
       "    </tr>\n",
       "    <tr>\n",
       "      <th>2</th>\n",
       "      <td>5004</td>\n",
       "      <td>Lyric Bell</td>\n",
       "      <td>Email: rhythmical.lyric@email.com</td>\n",
       "      <td>2023-03-13</td>\n",
       "      <td>NaN</td>\n",
       "      <td>2.99</td>\n",
       "      <td>NaN</td>\n",
       "      <td>2023-06-01</td>\n",
       "    </tr>\n",
       "    <tr>\n",
       "      <th>3</th>\n",
       "      <td>5267</td>\n",
       "      <td>Rock Bassett</td>\n",
       "      <td>Email: groovy.rock@email.com</td>\n",
       "      <td>2023-03-20</td>\n",
       "      <td>Basic (Ads)</td>\n",
       "      <td>2.99</td>\n",
       "      <td>NaN</td>\n",
       "      <td>NaT</td>\n",
       "    </tr>\n",
       "    <tr>\n",
       "      <th>4</th>\n",
       "      <td>5338</td>\n",
       "      <td>Rhythm Dixon</td>\n",
       "      <td>Email: beats.by.rhythm@email.edu</td>\n",
       "      <td>2023-03-20</td>\n",
       "      <td>NaN</td>\n",
       "      <td>2.99</td>\n",
       "      <td>NaN</td>\n",
       "      <td>NaT</td>\n",
       "    </tr>\n",
       "    <tr>\n",
       "      <th>5</th>\n",
       "      <td>5404</td>\n",
       "      <td>Jazz Saxton</td>\n",
       "      <td>Email: jazzy.sax@email.com</td>\n",
       "      <td>2023-03-20</td>\n",
       "      <td>NaN</td>\n",
       "      <td>2.99</td>\n",
       "      <td>NaN</td>\n",
       "      <td>2023-06-03</td>\n",
       "    </tr>\n",
       "    <tr>\n",
       "      <th>6</th>\n",
       "      <td>5581</td>\n",
       "      <td>Reed Sharp</td>\n",
       "      <td>Email: sharp.tunes@email.com</td>\n",
       "      <td>2023-03-21</td>\n",
       "      <td>Premium (No Ads)</td>\n",
       "      <td>9.99</td>\n",
       "      <td>NaN</td>\n",
       "      <td>NaT</td>\n",
       "    </tr>\n",
       "    <tr>\n",
       "      <th>7</th>\n",
       "      <td>5759</td>\n",
       "      <td>Carol Kingbird</td>\n",
       "      <td>Email: songbird.carol@email.com</td>\n",
       "      <td>2023-03-22</td>\n",
       "      <td>Premium (No Ads)</td>\n",
       "      <td>9.99</td>\n",
       "      <td>NaN</td>\n",
       "      <td>2023-06-02</td>\n",
       "    </tr>\n",
       "    <tr>\n",
       "      <th>8</th>\n",
       "      <td>5761</td>\n",
       "      <td>Sonata Nash</td>\n",
       "      <td>Email: musical.sonata@email.com</td>\n",
       "      <td>2023-03-28</td>\n",
       "      <td>Premium (No Ads)</td>\n",
       "      <td>9.99</td>\n",
       "      <td>NaN</td>\n",
       "      <td>NaT</td>\n",
       "    </tr>\n",
       "    <tr>\n",
       "      <th>9</th>\n",
       "      <td>5763</td>\n",
       "      <td>Jazz Coleman</td>\n",
       "      <td>Email: coleman.jazzmaster@email.com</td>\n",
       "      <td>2023-03-28</td>\n",
       "      <td>Basic (Ads)</td>\n",
       "      <td>2.99</td>\n",
       "      <td>NaN</td>\n",
       "      <td>NaT</td>\n",
       "    </tr>\n",
       "    <tr>\n",
       "      <th>10</th>\n",
       "      <td>5826</td>\n",
       "      <td>Chord Hayes</td>\n",
       "      <td>Email: harmonic.chord@email.com</td>\n",
       "      <td>2023-03-28</td>\n",
       "      <td>Basic (Ads)</td>\n",
       "      <td>2.99</td>\n",
       "      <td>NaN</td>\n",
       "      <td>NaT</td>\n",
       "    </tr>\n",
       "    <tr>\n",
       "      <th>11</th>\n",
       "      <td>5827</td>\n",
       "      <td>Rhythm Franklin</td>\n",
       "      <td>Email: rhythmic.franklin@email.edu</td>\n",
       "      <td>2023-03-28</td>\n",
       "      <td>NaN</td>\n",
       "      <td>2.99</td>\n",
       "      <td>NaN</td>\n",
       "      <td>NaT</td>\n",
       "    </tr>\n",
       "    <tr>\n",
       "      <th>12</th>\n",
       "      <td>6029</td>\n",
       "      <td>Chord Campbell</td>\n",
       "      <td>Email: campbell.chordify@email.com</td>\n",
       "      <td>2023-03-29</td>\n",
       "      <td>Premium (No Ads)</td>\n",
       "      <td>9.99</td>\n",
       "      <td>NaN</td>\n",
       "      <td>2023-06-02</td>\n",
       "    </tr>\n",
       "    <tr>\n",
       "      <th>13</th>\n",
       "      <td>6092</td>\n",
       "      <td>Benny Beat</td>\n",
       "      <td>Email: rhythmic.benny@email.com</td>\n",
       "      <td>2023-04-01</td>\n",
       "      <td>Basic (Ads)</td>\n",
       "      <td>2.99</td>\n",
       "      <td>NaN</td>\n",
       "      <td>2023-06-01</td>\n",
       "    </tr>\n",
       "    <tr>\n",
       "      <th>14</th>\n",
       "      <td>6163</td>\n",
       "      <td>Melody Parks</td>\n",
       "      <td>Email: park.of.melodies@email.com</td>\n",
       "      <td>2023-04-05</td>\n",
       "      <td>Premium (No Ads)</td>\n",
       "      <td>9.99</td>\n",
       "      <td>NaN</td>\n",
       "      <td>NaT</td>\n",
       "    </tr>\n",
       "    <tr>\n",
       "      <th>15</th>\n",
       "      <td>6229</td>\n",
       "      <td>Symphony Rhodes</td>\n",
       "      <td>Email: rhodes.symphony@email.com</td>\n",
       "      <td>2023-04-06</td>\n",
       "      <td>Premium (No Ads)</td>\n",
       "      <td>99.99</td>\n",
       "      <td>NaN</td>\n",
       "      <td>2023-06-02</td>\n",
       "    </tr>\n",
       "    <tr>\n",
       "      <th>16</th>\n",
       "      <td>6406</td>\n",
       "      <td>Beatrice Sharp</td>\n",
       "      <td>Email: beats.by.beatrice@email.com</td>\n",
       "      <td>2023-04-08</td>\n",
       "      <td>Basic (Ads)</td>\n",
       "      <td>2.99</td>\n",
       "      <td>NaN</td>\n",
       "      <td>NaT</td>\n",
       "    </tr>\n",
       "    <tr>\n",
       "      <th>17</th>\n",
       "      <td>6584</td>\n",
       "      <td>Bobby Bass</td>\n",
       "      <td>Email: bass.master.bobby@email.edu</td>\n",
       "      <td>2023-04-09</td>\n",
       "      <td>Basic (Ads)</td>\n",
       "      <td>2.99</td>\n",
       "      <td>NaN</td>\n",
       "      <td>NaT</td>\n",
       "    </tr>\n",
       "    <tr>\n",
       "      <th>18</th>\n",
       "      <td>6586</td>\n",
       "      <td>Lyric Saunders</td>\n",
       "      <td>Email: lyrical.saunders@email.edu</td>\n",
       "      <td>2023-04-16</td>\n",
       "      <td>Basic (Ads)</td>\n",
       "      <td>2.99</td>\n",
       "      <td>NaN</td>\n",
       "      <td>NaT</td>\n",
       "    </tr>\n",
       "    <tr>\n",
       "      <th>19</th>\n",
       "      <td>6588</td>\n",
       "      <td>Harmony Bass</td>\n",
       "      <td>Email: bass.harmony@email.com</td>\n",
       "      <td>2023-04-16</td>\n",
       "      <td>Basic (Ads)</td>\n",
       "      <td>2.99</td>\n",
       "      <td>NaN</td>\n",
       "      <td>2023-06-01</td>\n",
       "    </tr>\n",
       "    <tr>\n",
       "      <th>20</th>\n",
       "      <td>6821</td>\n",
       "      <td>Reed Flat</td>\n",
       "      <td>Email: flat.tunes@email.edu</td>\n",
       "      <td>2023-04-24</td>\n",
       "      <td>Basic (Ads)</td>\n",
       "      <td>2.99</td>\n",
       "      <td>NaN</td>\n",
       "      <td>NaT</td>\n",
       "    </tr>\n",
       "    <tr>\n",
       "      <th>21</th>\n",
       "      <td>6822</td>\n",
       "      <td>Kiki Keys</td>\n",
       "      <td>Email: kiki.keys.piano@email.com</td>\n",
       "      <td>2023-05-01</td>\n",
       "      <td>Premium (No Ads)</td>\n",
       "      <td>7.99</td>\n",
       "      <td>Yes</td>\n",
       "      <td>NaT</td>\n",
       "    </tr>\n",
       "    <tr>\n",
       "      <th>24</th>\n",
       "      <td>7158</td>\n",
       "      <td>Harmony Wallace</td>\n",
       "      <td>Email: wallace.harmony@email.com</td>\n",
       "      <td>2023-05-07</td>\n",
       "      <td>Basic (Ads)</td>\n",
       "      <td>2.99</td>\n",
       "      <td>NaN</td>\n",
       "      <td>NaT</td>\n",
       "    </tr>\n",
       "    <tr>\n",
       "      <th>27</th>\n",
       "      <td>7579</td>\n",
       "      <td>Jazz Drummond</td>\n",
       "      <td>Email: drumming.jazz@email.com</td>\n",
       "      <td>2023-05-15</td>\n",
       "      <td>Basic (Ads)</td>\n",
       "      <td>2.99</td>\n",
       "      <td>NaN</td>\n",
       "      <td>NaT</td>\n",
       "    </tr>\n",
       "  </tbody>\n",
       "</table>\n",
       "</div>"
      ],
      "text/plain": [
       "    Customer ID    Customer Name                                Email  \\\n",
       "0          5001   Harmony Greene    Email: harmonious.vibes@email.com   \n",
       "1          5002        Aria Keys      Email: melodious.aria@email.edu   \n",
       "2          5004       Lyric Bell    Email: rhythmical.lyric@email.com   \n",
       "3          5267     Rock Bassett         Email: groovy.rock@email.com   \n",
       "4          5338     Rhythm Dixon     Email: beats.by.rhythm@email.edu   \n",
       "5          5404      Jazz Saxton           Email: jazzy.sax@email.com   \n",
       "6          5581       Reed Sharp         Email: sharp.tunes@email.com   \n",
       "7          5759   Carol Kingbird      Email: songbird.carol@email.com   \n",
       "8          5761      Sonata Nash      Email: musical.sonata@email.com   \n",
       "9          5763     Jazz Coleman  Email: coleman.jazzmaster@email.com   \n",
       "10         5826      Chord Hayes      Email: harmonic.chord@email.com   \n",
       "11         5827  Rhythm Franklin   Email: rhythmic.franklin@email.edu   \n",
       "12         6029   Chord Campbell   Email: campbell.chordify@email.com   \n",
       "13         6092       Benny Beat      Email: rhythmic.benny@email.com   \n",
       "14         6163     Melody Parks    Email: park.of.melodies@email.com   \n",
       "15         6229  Symphony Rhodes     Email: rhodes.symphony@email.com   \n",
       "16         6406   Beatrice Sharp   Email: beats.by.beatrice@email.com   \n",
       "17         6584       Bobby Bass   Email: bass.master.bobby@email.edu   \n",
       "18         6586   Lyric Saunders    Email: lyrical.saunders@email.edu   \n",
       "19         6588     Harmony Bass        Email: bass.harmony@email.com   \n",
       "20         6821        Reed Flat          Email: flat.tunes@email.edu   \n",
       "21         6822        Kiki Keys     Email: kiki.keys.piano@email.com   \n",
       "24         7158  Harmony Wallace     Email: wallace.harmony@email.com   \n",
       "27         7579    Jazz Drummond       Email: drumming.jazz@email.com   \n",
       "\n",
       "   Member Since Subscription Plan  Subscription Rate Discount?  \\\n",
       "0    2023-03-13       Basic (Ads)               2.99       NaN   \n",
       "1    2023-03-13               NaN               2.99       NaN   \n",
       "2    2023-03-13               NaN               2.99       NaN   \n",
       "3    2023-03-20       Basic (Ads)               2.99       NaN   \n",
       "4    2023-03-20               NaN               2.99       NaN   \n",
       "5    2023-03-20               NaN               2.99       NaN   \n",
       "6    2023-03-21  Premium (No Ads)               9.99       NaN   \n",
       "7    2023-03-22  Premium (No Ads)               9.99       NaN   \n",
       "8    2023-03-28  Premium (No Ads)               9.99       NaN   \n",
       "9    2023-03-28       Basic (Ads)               2.99       NaN   \n",
       "10   2023-03-28       Basic (Ads)               2.99       NaN   \n",
       "11   2023-03-28               NaN               2.99       NaN   \n",
       "12   2023-03-29  Premium (No Ads)               9.99       NaN   \n",
       "13   2023-04-01       Basic (Ads)               2.99       NaN   \n",
       "14   2023-04-05  Premium (No Ads)               9.99       NaN   \n",
       "15   2023-04-06  Premium (No Ads)              99.99       NaN   \n",
       "16   2023-04-08       Basic (Ads)               2.99       NaN   \n",
       "17   2023-04-09       Basic (Ads)               2.99       NaN   \n",
       "18   2023-04-16       Basic (Ads)               2.99       NaN   \n",
       "19   2023-04-16       Basic (Ads)               2.99       NaN   \n",
       "20   2023-04-24       Basic (Ads)               2.99       NaN   \n",
       "21   2023-05-01  Premium (No Ads)               7.99       Yes   \n",
       "24   2023-05-07       Basic (Ads)               2.99       NaN   \n",
       "27   2023-05-15       Basic (Ads)               2.99       NaN   \n",
       "\n",
       "   Cancellation Date  \n",
       "0                NaT  \n",
       "1                NaT  \n",
       "2         2023-06-01  \n",
       "3                NaT  \n",
       "4                NaT  \n",
       "5         2023-06-03  \n",
       "6                NaT  \n",
       "7         2023-06-02  \n",
       "8                NaT  \n",
       "9                NaT  \n",
       "10               NaT  \n",
       "11               NaT  \n",
       "12        2023-06-02  \n",
       "13        2023-06-01  \n",
       "14               NaT  \n",
       "15        2023-06-02  \n",
       "16               NaT  \n",
       "17               NaT  \n",
       "18               NaT  \n",
       "19        2023-06-01  \n",
       "20               NaT  \n",
       "21               NaT  \n",
       "24               NaT  \n",
       "27               NaT  "
      ]
     },
     "execution_count": 152,
     "metadata": {},
     "output_type": "execute_result"
    }
   ],
   "source": [
    "customers[customers.isna().any(axis=1)]"
   ]
  },
  {
   "cell_type": "code",
   "execution_count": 232,
   "metadata": {},
   "outputs": [],
   "source": [
    "customers['Subscription Plan'] = customers['Subscription Plan'].fillna('Basic (Ads)')\n",
    "customers['Discount?'] = np.where(customers['Discount?']=='Yes', 1, 0)"
   ]
  },
  {
   "cell_type": "markdown",
   "metadata": {},
   "source": [
    "#### ii. Inconsistent Text & Typos"
   ]
  },
  {
   "cell_type": "code",
   "execution_count": 300,
   "metadata": {},
   "outputs": [
    {
     "data": {
      "text/plain": [
       "Genre\n",
       "Pop Music     3\n",
       "Hip Hop       3\n",
       "Comedy        3\n",
       "Pop           2\n",
       "Country       2\n",
       "Jazz          2\n",
       "True Crime    2\n",
       "Name: count, dtype: int64"
      ]
     },
     "execution_count": 300,
     "metadata": {},
     "output_type": "execute_result"
    }
   ],
   "source": [
    "# Look for inconsistent text & typos\n",
    "\n",
    "audio['Genre'].value_counts()"
   ]
  },
  {
   "cell_type": "code",
   "execution_count": 302,
   "metadata": {},
   "outputs": [],
   "source": [
    "audio['Genre'] = np.where(audio['Genre'] == 'Pop Music', 'Pop', audio['Genre'])"
   ]
  },
  {
   "cell_type": "markdown",
   "metadata": {},
   "source": [
    "#### iii. Duplicate Rows"
   ]
  },
  {
   "cell_type": "code",
   "execution_count": 207,
   "metadata": {},
   "outputs": [
    {
     "data": {
      "text/html": [
       "<div>\n",
       "<style scoped>\n",
       "    .dataframe tbody tr th:only-of-type {\n",
       "        vertical-align: middle;\n",
       "    }\n",
       "\n",
       "    .dataframe tbody tr th {\n",
       "        vertical-align: top;\n",
       "    }\n",
       "\n",
       "    .dataframe thead th {\n",
       "        text-align: right;\n",
       "    }\n",
       "</style>\n",
       "<table border=\"1\" class=\"dataframe\">\n",
       "  <thead>\n",
       "    <tr style=\"text-align: right;\">\n",
       "      <th></th>\n",
       "      <th>Customer ID</th>\n",
       "      <th>Customer Name</th>\n",
       "      <th>Email</th>\n",
       "      <th>Member Since</th>\n",
       "      <th>Subscription Plan</th>\n",
       "      <th>Subscription Rate</th>\n",
       "      <th>Discount?</th>\n",
       "      <th>Cancellation Date</th>\n",
       "    </tr>\n",
       "  </thead>\n",
       "  <tbody>\n",
       "  </tbody>\n",
       "</table>\n",
       "</div>"
      ],
      "text/plain": [
       "Empty DataFrame\n",
       "Columns: [Customer ID, Customer Name, Email, Member Since, Subscription Plan, Subscription Rate, Discount?, Cancellation Date]\n",
       "Index: []"
      ]
     },
     "execution_count": 207,
     "metadata": {},
     "output_type": "execute_result"
    }
   ],
   "source": [
    "# Look for duplicate rows\n",
    "customers[customers.duplicated(keep=False)]"
   ]
  },
  {
   "cell_type": "code",
   "execution_count": 209,
   "metadata": {},
   "outputs": [
    {
     "data": {
      "text/html": [
       "<div>\n",
       "<style scoped>\n",
       "    .dataframe tbody tr th:only-of-type {\n",
       "        vertical-align: middle;\n",
       "    }\n",
       "\n",
       "    .dataframe tbody tr th {\n",
       "        vertical-align: top;\n",
       "    }\n",
       "\n",
       "    .dataframe thead th {\n",
       "        text-align: right;\n",
       "    }\n",
       "</style>\n",
       "<table border=\"1\" class=\"dataframe\">\n",
       "  <thead>\n",
       "    <tr style=\"text-align: right;\">\n",
       "      <th></th>\n",
       "      <th>Session ID</th>\n",
       "      <th>Session Log In Time</th>\n",
       "    </tr>\n",
       "  </thead>\n",
       "  <tbody>\n",
       "  </tbody>\n",
       "</table>\n",
       "</div>"
      ],
      "text/plain": [
       "Empty DataFrame\n",
       "Columns: [Session ID, Session Log In Time]\n",
       "Index: []"
      ]
     },
     "execution_count": 209,
     "metadata": {},
     "output_type": "execute_result"
    }
   ],
   "source": [
    "# Look for duplicate rows\n",
    "sessions[sessions.duplicated(keep=False)]"
   ]
  },
  {
   "cell_type": "code",
   "execution_count": 211,
   "metadata": {},
   "outputs": [
    {
     "data": {
      "text/html": [
       "<div>\n",
       "<style scoped>\n",
       "    .dataframe tbody tr th:only-of-type {\n",
       "        vertical-align: middle;\n",
       "    }\n",
       "\n",
       "    .dataframe tbody tr th {\n",
       "        vertical-align: top;\n",
       "    }\n",
       "\n",
       "    .dataframe thead th {\n",
       "        text-align: right;\n",
       "    }\n",
       "</style>\n",
       "<table border=\"1\" class=\"dataframe\">\n",
       "  <thead>\n",
       "    <tr style=\"text-align: right;\">\n",
       "      <th></th>\n",
       "      <th>Customer ID</th>\n",
       "      <th>Session ID</th>\n",
       "      <th>Audio Order</th>\n",
       "      <th>Audio ID</th>\n",
       "      <th>Audio Type</th>\n",
       "    </tr>\n",
       "  </thead>\n",
       "  <tbody>\n",
       "  </tbody>\n",
       "</table>\n",
       "</div>"
      ],
      "text/plain": [
       "Empty DataFrame\n",
       "Columns: [Customer ID, Session ID, Audio Order, Audio ID, Audio Type]\n",
       "Index: []"
      ]
     },
     "execution_count": 211,
     "metadata": {},
     "output_type": "execute_result"
    }
   ],
   "source": [
    "# Look for duplicate rows\n",
    "listening[listening.duplicated(keep=False)]"
   ]
  },
  {
   "cell_type": "code",
   "execution_count": 213,
   "metadata": {},
   "outputs": [
    {
     "data": {
      "text/html": [
       "<div>\n",
       "<style scoped>\n",
       "    .dataframe tbody tr th:only-of-type {\n",
       "        vertical-align: middle;\n",
       "    }\n",
       "\n",
       "    .dataframe tbody tr th {\n",
       "        vertical-align: top;\n",
       "    }\n",
       "\n",
       "    .dataframe thead th {\n",
       "        text-align: right;\n",
       "    }\n",
       "</style>\n",
       "<table border=\"1\" class=\"dataframe\">\n",
       "  <thead>\n",
       "    <tr style=\"text-align: right;\">\n",
       "      <th></th>\n",
       "      <th>ID</th>\n",
       "      <th>Name</th>\n",
       "      <th>Genre</th>\n",
       "      <th>Popularity</th>\n",
       "    </tr>\n",
       "  </thead>\n",
       "  <tbody>\n",
       "  </tbody>\n",
       "</table>\n",
       "</div>"
      ],
      "text/plain": [
       "Empty DataFrame\n",
       "Columns: [ID, Name, Genre, Popularity]\n",
       "Index: []"
      ]
     },
     "execution_count": 213,
     "metadata": {},
     "output_type": "execute_result"
    }
   ],
   "source": [
    "# Look for duplicate rows\n",
    "audio[audio.duplicated(keep=False)]"
   ]
  },
  {
   "cell_type": "markdown",
   "metadata": {},
   "source": [
    "#### iv. Outliers"
   ]
  },
  {
   "cell_type": "code",
   "execution_count": 216,
   "metadata": {},
   "outputs": [
    {
     "data": {
      "text/plain": [
       "<Axes: xlabel='Subscription Rate', ylabel='Count'>"
      ]
     },
     "execution_count": 216,
     "metadata": {},
     "output_type": "execute_result"
    },
    {
     "data": {
      "image/png": "[encoded data removed]",
      "text/plain": [
       "<Figure size 640x480 with 1 Axes>"
      ]
     },
     "metadata": {},
     "output_type": "display_data"
    }
   ],
   "source": [
    "# Look for outliers\n",
    "import seaborn as sns\n",
    "sns.histplot(customers['Subscription Rate'])"
   ]
  },
  {
   "cell_type": "code",
   "execution_count": 218,
   "metadata": {},
   "outputs": [
    {
     "data": {
      "text/html": [
       "<div>\n",
       "<style scoped>\n",
       "    .dataframe tbody tr th:only-of-type {\n",
       "        vertical-align: middle;\n",
       "    }\n",
       "\n",
       "    .dataframe tbody tr th {\n",
       "        vertical-align: top;\n",
       "    }\n",
       "\n",
       "    .dataframe thead th {\n",
       "        text-align: right;\n",
       "    }\n",
       "</style>\n",
       "<table border=\"1\" class=\"dataframe\">\n",
       "  <thead>\n",
       "    <tr style=\"text-align: right;\">\n",
       "      <th></th>\n",
       "      <th>Customer ID</th>\n",
       "      <th>Customer Name</th>\n",
       "      <th>Email</th>\n",
       "      <th>Member Since</th>\n",
       "      <th>Subscription Plan</th>\n",
       "      <th>Subscription Rate</th>\n",
       "      <th>Discount?</th>\n",
       "      <th>Cancellation Date</th>\n",
       "    </tr>\n",
       "  </thead>\n",
       "  <tbody>\n",
       "    <tr>\n",
       "      <th>15</th>\n",
       "      <td>6229</td>\n",
       "      <td>Symphony Rhodes</td>\n",
       "      <td>Email: rhodes.symphony@email.com</td>\n",
       "      <td>2023-04-06</td>\n",
       "      <td>Premium (No Ads)</td>\n",
       "      <td>99.99</td>\n",
       "      <td>No</td>\n",
       "      <td>2023-06-02</td>\n",
       "    </tr>\n",
       "  </tbody>\n",
       "</table>\n",
       "</div>"
      ],
      "text/plain": [
       "    Customer ID    Customer Name                             Email  \\\n",
       "15         6229  Symphony Rhodes  Email: rhodes.symphony@email.com   \n",
       "\n",
       "   Member Since Subscription Plan  Subscription Rate Discount?  \\\n",
       "15   2023-04-06  Premium (No Ads)              99.99        No   \n",
       "\n",
       "   Cancellation Date  \n",
       "15        2023-06-02  "
      ]
     },
     "execution_count": 218,
     "metadata": {},
     "output_type": "execute_result"
    }
   ],
   "source": [
    "customers[customers['Subscription Rate'] > 90]"
   ]
  },
  {
   "cell_type": "code",
   "execution_count": 220,
   "metadata": {},
   "outputs": [],
   "source": [
    "customers['Subscription Rate'] = np.where(customers['Subscription Rate'] > 90, 9.99, customers['Subscription Rate'])"
   ]
  },
  {
   "cell_type": "code",
   "execution_count": 222,
   "metadata": {},
   "outputs": [
    {
     "data": {
      "text/plain": [
       "<Axes: ylabel='Count'>"
      ]
     },
     "execution_count": 222,
     "metadata": {},
     "output_type": "execute_result"
    },
    {
     "data": {
      "image/png": "[encoded data removed]",
      "text/plain": [
       "<Figure size 640x480 with 1 Axes>"
      ]
     },
     "metadata": {},
     "output_type": "display_data"
    }
   ],
   "source": [
    "sns.histplot(audio)"
   ]
  },
  {
   "cell_type": "markdown",
   "metadata": {},
   "source": [
    "### c. Create New Columns"
   ]
  },
  {
   "cell_type": "markdown",
   "metadata": {},
   "source": [
    "Create two new columns that will be useful for EDA and modeling:\n",
    "* Cancelled: whether a customer cancelled or not\n",
    "* Email: Remove the \"Email:\" from the email addresses"
   ]
  },
  {
   "cell_type": "code",
   "execution_count": 234,
   "metadata": {},
   "outputs": [],
   "source": [
    "# Create a 'Cancelled' column\n",
    "customers['Cancelled'] = np.where(customers['Cancellation Date'].isna(), 0, 1)"
   ]
  },
  {
   "cell_type": "code",
   "execution_count": 236,
   "metadata": {},
   "outputs": [],
   "source": [
    "# Create an updated 'Email' column without the Email: portion\n",
    "customers.Email = customers.Email.str.replace('Email: ', '')"
   ]
  },
  {
   "cell_type": "code",
   "execution_count": 238,
   "metadata": {},
   "outputs": [
    {
     "data": {
      "text/html": [
       "<div>\n",
       "<style scoped>\n",
       "    .dataframe tbody tr th:only-of-type {\n",
       "        vertical-align: middle;\n",
       "    }\n",
       "\n",
       "    .dataframe tbody tr th {\n",
       "        vertical-align: top;\n",
       "    }\n",
       "\n",
       "    .dataframe thead th {\n",
       "        text-align: right;\n",
       "    }\n",
       "</style>\n",
       "<table border=\"1\" class=\"dataframe\">\n",
       "  <thead>\n",
       "    <tr style=\"text-align: right;\">\n",
       "      <th></th>\n",
       "      <th>Customer ID</th>\n",
       "      <th>Customer Name</th>\n",
       "      <th>Email</th>\n",
       "      <th>Member Since</th>\n",
       "      <th>Subscription Plan</th>\n",
       "      <th>Subscription Rate</th>\n",
       "      <th>Discount?</th>\n",
       "      <th>Cancellation Date</th>\n",
       "      <th>Cancelled</th>\n",
       "    </tr>\n",
       "  </thead>\n",
       "  <tbody>\n",
       "    <tr>\n",
       "      <th>0</th>\n",
       "      <td>5001</td>\n",
       "      <td>Harmony Greene</td>\n",
       "      <td>harmonious.vibes@email.com</td>\n",
       "      <td>2023-03-13</td>\n",
       "      <td>Basic (Ads)</td>\n",
       "      <td>2.99</td>\n",
       "      <td>0</td>\n",
       "      <td>NaT</td>\n",
       "      <td>0</td>\n",
       "    </tr>\n",
       "    <tr>\n",
       "      <th>1</th>\n",
       "      <td>5002</td>\n",
       "      <td>Aria Keys</td>\n",
       "      <td>melodious.aria@email.edu</td>\n",
       "      <td>2023-03-13</td>\n",
       "      <td>Basic (Ads)</td>\n",
       "      <td>2.99</td>\n",
       "      <td>0</td>\n",
       "      <td>NaT</td>\n",
       "      <td>0</td>\n",
       "    </tr>\n",
       "    <tr>\n",
       "      <th>2</th>\n",
       "      <td>5004</td>\n",
       "      <td>Lyric Bell</td>\n",
       "      <td>rhythmical.lyric@email.com</td>\n",
       "      <td>2023-03-13</td>\n",
       "      <td>Basic (Ads)</td>\n",
       "      <td>2.99</td>\n",
       "      <td>0</td>\n",
       "      <td>2023-06-01</td>\n",
       "      <td>1</td>\n",
       "    </tr>\n",
       "    <tr>\n",
       "      <th>3</th>\n",
       "      <td>5267</td>\n",
       "      <td>Rock Bassett</td>\n",
       "      <td>groovy.rock@email.com</td>\n",
       "      <td>2023-03-20</td>\n",
       "      <td>Basic (Ads)</td>\n",
       "      <td>2.99</td>\n",
       "      <td>0</td>\n",
       "      <td>NaT</td>\n",
       "      <td>0</td>\n",
       "    </tr>\n",
       "    <tr>\n",
       "      <th>4</th>\n",
       "      <td>5338</td>\n",
       "      <td>Rhythm Dixon</td>\n",
       "      <td>beats.by.rhythm@email.edu</td>\n",
       "      <td>2023-03-20</td>\n",
       "      <td>Basic (Ads)</td>\n",
       "      <td>2.99</td>\n",
       "      <td>0</td>\n",
       "      <td>NaT</td>\n",
       "      <td>0</td>\n",
       "    </tr>\n",
       "  </tbody>\n",
       "</table>\n",
       "</div>"
      ],
      "text/plain": [
       "   Customer ID   Customer Name                       Email Member Since  \\\n",
       "0         5001  Harmony Greene  harmonious.vibes@email.com   2023-03-13   \n",
       "1         5002       Aria Keys    melodious.aria@email.edu   2023-03-13   \n",
       "2         5004      Lyric Bell  rhythmical.lyric@email.com   2023-03-13   \n",
       "3         5267    Rock Bassett       groovy.rock@email.com   2023-03-20   \n",
       "4         5338    Rhythm Dixon   beats.by.rhythm@email.edu   2023-03-20   \n",
       "\n",
       "  Subscription Plan  Subscription Rate  Discount? Cancellation Date  Cancelled  \n",
       "0       Basic (Ads)               2.99          0               NaT          0  \n",
       "1       Basic (Ads)               2.99          0               NaT          0  \n",
       "2       Basic (Ads)               2.99          0        2023-06-01          1  \n",
       "3       Basic (Ads)               2.99          0               NaT          0  \n",
       "4       Basic (Ads)               2.99          0               NaT          0  "
      ]
     },
     "execution_count": 238,
     "metadata": {},
     "output_type": "execute_result"
    }
   ],
   "source": [
    "customers.head()"
   ]
  },
  {
   "cell_type": "markdown",
   "metadata": {},
   "source": [
    "## 4. EDA"
   ]
  },
  {
   "cell_type": "markdown",
   "metadata": {},
   "source": [
    "Try to better understand the customers who cancelled:\n",
    "* How long were they members before they cancelled?\n",
    "* What percentage of customers who cancelled had a discount vs customers who didn't cancel?"
   ]
  },
  {
   "cell_type": "code",
   "execution_count": 328,
   "metadata": {},
   "outputs": [
    {
     "data": {
      "text/plain": [
       "Timedelta('46 days 07:23:04.615384615')"
      ]
     },
     "execution_count": 328,
     "metadata": {},
     "output_type": "execute_result"
    }
   ],
   "source": [
    "# How long were customers members before they cancelled?\n",
    "cancelled = customers[customers['Cancelled'] == 1]\n",
    "(cancelled['Cancellation Date'] - cancelled['Member Since']).mean()"
   ]
  },
  {
   "cell_type": "code",
   "execution_count": 334,
   "metadata": {},
   "outputs": [
    {
     "data": {
      "text/plain": [
       "0.8571428571428571"
      ]
     },
     "execution_count": 334,
     "metadata": {},
     "output_type": "execute_result"
    }
   ],
   "source": [
    "# Cancellation rate for those who had a discount\n",
    "discount_yes = customers[customers['Discount?'] == 1]\n",
    "\n",
    "discount_yes.Cancelled.sum() / discount_yes.Cancelled.count()"
   ]
  },
  {
   "cell_type": "code",
   "execution_count": 336,
   "metadata": {},
   "outputs": [
    {
     "data": {
      "text/plain": [
       "0.30434782608695654"
      ]
     },
     "execution_count": 336,
     "metadata": {},
     "output_type": "execute_result"
    }
   ],
   "source": [
    "# Cancellation rate for those who did not have a discount\n",
    "discount_no = customers[customers['Discount?'] == 0]\n",
    "\n",
    "discount_no.Cancelled.sum() / discount_no.Cancelled.count()"
   ]
  },
  {
   "cell_type": "code",
   "execution_count": 340,
   "metadata": {},
   "outputs": [
    {
     "data": {
      "image/png": "[encoded data removed]",
      "text/plain": [
       "<Figure size 640x480 with 1 Axes>"
      ]
     },
     "metadata": {},
     "output_type": "display_data"
    }
   ],
   "source": [
    "# Visualize the cancellation rate for those with a discount vs those without a discount\n",
    "pd.DataFrame([['Had Discount', 0.8571428571428571],\n",
    "             ['Did Not Have Discount', 0.30434782608695654]],\n",
    "             columns=['Customer Type', 'Cancellation Rate']).plot.barh(x='Customer Type', y='Cancellation Rate');"
   ]
  },
  {
   "cell_type": "markdown",
   "metadata": {},
   "source": [
    "Better understand the customers' listening histories:\n",
    "* Join together the listening history and audio tables\n",
    "* How many listening sessions did each customer have in the past 3 months?\n",
    "* What were the most popular genres that customers listened to?"
   ]
  },
  {
   "cell_type": "code",
   "execution_count": 304,
   "metadata": {},
   "outputs": [
    {
     "data": {
      "text/html": [
       "<div>\n",
       "<style scoped>\n",
       "    .dataframe tbody tr th:only-of-type {\n",
       "        vertical-align: middle;\n",
       "    }\n",
       "\n",
       "    .dataframe tbody tr th {\n",
       "        vertical-align: top;\n",
       "    }\n",
       "\n",
       "    .dataframe thead th {\n",
       "        text-align: right;\n",
       "    }\n",
       "</style>\n",
       "<table border=\"1\" class=\"dataframe\">\n",
       "  <thead>\n",
       "    <tr style=\"text-align: right;\">\n",
       "      <th></th>\n",
       "      <th>ID</th>\n",
       "      <th>Name</th>\n",
       "      <th>Genre</th>\n",
       "      <th>Popularity</th>\n",
       "      <th>Type</th>\n",
       "    </tr>\n",
       "  </thead>\n",
       "  <tbody>\n",
       "    <tr>\n",
       "      <th>0</th>\n",
       "      <td>101</td>\n",
       "      <td>Dance All Night</td>\n",
       "      <td>Pop</td>\n",
       "      <td>1</td>\n",
       "      <td>Song</td>\n",
       "    </tr>\n",
       "    <tr>\n",
       "      <th>1</th>\n",
       "      <td>102</td>\n",
       "      <td>Unbreakable Beat</td>\n",
       "      <td>Pop</td>\n",
       "      <td>2</td>\n",
       "      <td>Song</td>\n",
       "    </tr>\n",
       "    <tr>\n",
       "      <th>2</th>\n",
       "      <td>103</td>\n",
       "      <td>Sunset Boulevard</td>\n",
       "      <td>Pop</td>\n",
       "      <td>5</td>\n",
       "      <td>Song</td>\n",
       "    </tr>\n",
       "    <tr>\n",
       "      <th>3</th>\n",
       "      <td>104</td>\n",
       "      <td>Glowing Hearts</td>\n",
       "      <td>Pop</td>\n",
       "      <td>10</td>\n",
       "      <td>Song</td>\n",
       "    </tr>\n",
       "    <tr>\n",
       "      <th>4</th>\n",
       "      <td>105</td>\n",
       "      <td>Pop Rocks</td>\n",
       "      <td>Pop</td>\n",
       "      <td>52</td>\n",
       "      <td>Song</td>\n",
       "    </tr>\n",
       "  </tbody>\n",
       "</table>\n",
       "</div>"
      ],
      "text/plain": [
       "    ID              Name Genre  Popularity  Type\n",
       "0  101   Dance All Night   Pop           1  Song\n",
       "1  102  Unbreakable Beat   Pop           2  Song\n",
       "2  103  Sunset Boulevard   Pop           5  Song\n",
       "3  104    Glowing Hearts   Pop          10  Song\n",
       "4  105         Pop Rocks   Pop          52  Song"
      ]
     },
     "execution_count": 304,
     "metadata": {},
     "output_type": "execute_result"
    }
   ],
   "source": [
    "# Split the ID in the audio data so the column can be joined with other tables\n",
    "audio[['Type', 'ID']] = audio.ID.str.split('-').to_list()\n",
    "audio.head()"
   ]
  },
  {
   "cell_type": "code",
   "execution_count": 314,
   "metadata": {},
   "outputs": [],
   "source": [
    "# Hint: Check the data type of Audio ID in the audio table\n",
    "audio.dtypes\n",
    "\n",
    "audio.ID = pd.to_numeric(audio.ID)"
   ]
  },
  {
   "cell_type": "code",
   "execution_count": 320,
   "metadata": {},
   "outputs": [
    {
     "data": {
      "text/html": [
       "<div>\n",
       "<style scoped>\n",
       "    .dataframe tbody tr th:only-of-type {\n",
       "        vertical-align: middle;\n",
       "    }\n",
       "\n",
       "    .dataframe tbody tr th {\n",
       "        vertical-align: top;\n",
       "    }\n",
       "\n",
       "    .dataframe thead th {\n",
       "        text-align: right;\n",
       "    }\n",
       "</style>\n",
       "<table border=\"1\" class=\"dataframe\">\n",
       "  <thead>\n",
       "    <tr style=\"text-align: right;\">\n",
       "      <th></th>\n",
       "      <th>Customer ID</th>\n",
       "      <th>Session ID</th>\n",
       "      <th>Audio Order</th>\n",
       "      <th>Audio ID</th>\n",
       "      <th>Audio Type</th>\n",
       "      <th>ID</th>\n",
       "      <th>Name</th>\n",
       "      <th>Genre</th>\n",
       "      <th>Popularity</th>\n",
       "      <th>Type</th>\n",
       "    </tr>\n",
       "  </thead>\n",
       "  <tbody>\n",
       "    <tr>\n",
       "      <th>0</th>\n",
       "      <td>5001</td>\n",
       "      <td>100520</td>\n",
       "      <td>1</td>\n",
       "      <td>101</td>\n",
       "      <td>Song</td>\n",
       "      <td>101</td>\n",
       "      <td>Dance All Night</td>\n",
       "      <td>Pop</td>\n",
       "      <td>1</td>\n",
       "      <td>Song</td>\n",
       "    </tr>\n",
       "    <tr>\n",
       "      <th>1</th>\n",
       "      <td>5001</td>\n",
       "      <td>100520</td>\n",
       "      <td>2</td>\n",
       "      <td>102</td>\n",
       "      <td>Song</td>\n",
       "      <td>102</td>\n",
       "      <td>Unbreakable Beat</td>\n",
       "      <td>Pop</td>\n",
       "      <td>2</td>\n",
       "      <td>Song</td>\n",
       "    </tr>\n",
       "    <tr>\n",
       "      <th>2</th>\n",
       "      <td>5001</td>\n",
       "      <td>100520</td>\n",
       "      <td>3</td>\n",
       "      <td>103</td>\n",
       "      <td>Song</td>\n",
       "      <td>103</td>\n",
       "      <td>Sunset Boulevard</td>\n",
       "      <td>Pop</td>\n",
       "      <td>5</td>\n",
       "      <td>Song</td>\n",
       "    </tr>\n",
       "    <tr>\n",
       "      <th>3</th>\n",
       "      <td>5001</td>\n",
       "      <td>100520</td>\n",
       "      <td>4</td>\n",
       "      <td>104</td>\n",
       "      <td>Song</td>\n",
       "      <td>104</td>\n",
       "      <td>Glowing Hearts</td>\n",
       "      <td>Pop</td>\n",
       "      <td>10</td>\n",
       "      <td>Song</td>\n",
       "    </tr>\n",
       "    <tr>\n",
       "      <th>4</th>\n",
       "      <td>5001</td>\n",
       "      <td>100520</td>\n",
       "      <td>5</td>\n",
       "      <td>105</td>\n",
       "      <td>Song</td>\n",
       "      <td>105</td>\n",
       "      <td>Pop Rocks</td>\n",
       "      <td>Pop</td>\n",
       "      <td>52</td>\n",
       "      <td>Song</td>\n",
       "    </tr>\n",
       "  </tbody>\n",
       "</table>\n",
       "</div>"
      ],
      "text/plain": [
       "   Customer ID  Session ID  Audio Order  Audio ID Audio Type   ID  \\\n",
       "0         5001      100520            1       101       Song  101   \n",
       "1         5001      100520            2       102       Song  102   \n",
       "2         5001      100520            3       103       Song  103   \n",
       "3         5001      100520            4       104       Song  104   \n",
       "4         5001      100520            5       105       Song  105   \n",
       "\n",
       "               Name Genre  Popularity  Type  \n",
       "0   Dance All Night   Pop           1  Song  \n",
       "1  Unbreakable Beat   Pop           2  Song  \n",
       "2  Sunset Boulevard   Pop           5  Song  \n",
       "3    Glowing Hearts   Pop          10  Song  \n",
       "4         Pop Rocks   Pop          52  Song  "
      ]
     },
     "execution_count": 320,
     "metadata": {},
     "output_type": "execute_result"
    }
   ],
   "source": [
    "listening_audio = listening.merge(audio, how='left', left_on='Audio ID', right_on='ID')\n",
    "listening_audio.head()"
   ]
  },
  {
   "cell_type": "code",
   "execution_count": 344,
   "metadata": {},
   "outputs": [
    {
     "data": {
      "image/png": "[encoded data removed]",
      "text/plain": [
       "<Figure size 640x480 with 1 Axes>"
      ]
     },
     "metadata": {},
     "output_type": "display_data"
    }
   ],
   "source": [
    "# The number of listening sessions that each customer had in the past 3 months\n",
    "listening_audio.groupby('Customer ID')['Session ID'].nunique().plot.hist();\n"
   ]
  },
  {
   "cell_type": "code",
   "execution_count": 342,
   "metadata": {},
   "outputs": [
    {
     "data": {
      "text/plain": [
       "Genre\n",
       "Comedy         19\n",
       "Country        68\n",
       "Hip Hop        88\n",
       "Jazz           48\n",
       "Pop           267\n",
       "True Crime     15\n",
       "Name: Session ID, dtype: int64"
      ]
     },
     "execution_count": 342,
     "metadata": {},
     "output_type": "execute_result"
    }
   ],
   "source": [
    "# The most popular genres that customers listened to\n",
    "popular_genres =listening_audio.groupby('Genre')['Session ID'].count()\n",
    "popular_genres"
   ]
  },
  {
   "cell_type": "code",
   "execution_count": null,
   "metadata": {},
   "outputs": [],
   "source": []
  },
  {
   "cell_type": "markdown",
   "metadata": {},
   "source": [
    "## 5. Prep for Modeling"
   ]
  },
  {
   "cell_type": "markdown",
   "metadata": {},
   "source": [
    "Create a DataFrame that is ready for modeling with each row representing a customer and the following numeric, non-null columns:\n",
    "* Customer ID\n",
    "* Whether a customer cancelled or not\n",
    "* Whether a customer received a discount or not\n",
    "* The number of listening sessions\n",
    "* Percent of listening history consisting of Pop\n",
    "* Percent of listening history consisting of Podcasts"
   ]
  },
  {
   "cell_type": "code",
   "execution_count": 390,
   "metadata": {},
   "outputs": [
    {
     "data": {
      "text/html": [
       "<div>\n",
       "<style scoped>\n",
       "    .dataframe tbody tr th:only-of-type {\n",
       "        vertical-align: middle;\n",
       "    }\n",
       "\n",
       "    .dataframe tbody tr th {\n",
       "        vertical-align: top;\n",
       "    }\n",
       "\n",
       "    .dataframe thead th {\n",
       "        text-align: right;\n",
       "    }\n",
       "</style>\n",
       "<table border=\"1\" class=\"dataframe\">\n",
       "  <thead>\n",
       "    <tr style=\"text-align: right;\">\n",
       "      <th></th>\n",
       "      <th>Customer ID</th>\n",
       "      <th>Cancelled</th>\n",
       "      <th>Discount?</th>\n",
       "    </tr>\n",
       "  </thead>\n",
       "  <tbody>\n",
       "    <tr>\n",
       "      <th>0</th>\n",
       "      <td>5001</td>\n",
       "      <td>0</td>\n",
       "      <td>0</td>\n",
       "    </tr>\n",
       "    <tr>\n",
       "      <th>1</th>\n",
       "      <td>5002</td>\n",
       "      <td>0</td>\n",
       "      <td>0</td>\n",
       "    </tr>\n",
       "    <tr>\n",
       "      <th>2</th>\n",
       "      <td>5004</td>\n",
       "      <td>1</td>\n",
       "      <td>0</td>\n",
       "    </tr>\n",
       "    <tr>\n",
       "      <th>3</th>\n",
       "      <td>5267</td>\n",
       "      <td>0</td>\n",
       "      <td>0</td>\n",
       "    </tr>\n",
       "    <tr>\n",
       "      <th>4</th>\n",
       "      <td>5338</td>\n",
       "      <td>0</td>\n",
       "      <td>0</td>\n",
       "    </tr>\n",
       "  </tbody>\n",
       "</table>\n",
       "</div>"
      ],
      "text/plain": [
       "   Customer ID  Cancelled  Discount?\n",
       "0         5001          0          0\n",
       "1         5002          0          0\n",
       "2         5004          1          0\n",
       "3         5267          0          0\n",
       "4         5338          0          0"
      ]
     },
     "execution_count": 390,
     "metadata": {},
     "output_type": "execute_result"
    }
   ],
   "source": [
    "# Create a dataframe ready for modeling\n",
    "model_df = customers[['Customer ID', 'Cancelled', 'Discount?']]\n",
    "model_df.head()"
   ]
  },
  {
   "cell_type": "code",
   "execution_count": 392,
   "metadata": {},
   "outputs": [
    {
     "data": {
      "text/html": [
       "<div>\n",
       "<style scoped>\n",
       "    .dataframe tbody tr th:only-of-type {\n",
       "        vertical-align: middle;\n",
       "    }\n",
       "\n",
       "    .dataframe tbody tr th {\n",
       "        vertical-align: top;\n",
       "    }\n",
       "\n",
       "    .dataframe thead th {\n",
       "        text-align: right;\n",
       "    }\n",
       "</style>\n",
       "<table border=\"1\" class=\"dataframe\">\n",
       "  <thead>\n",
       "    <tr style=\"text-align: right;\">\n",
       "      <th></th>\n",
       "      <th>Customer ID</th>\n",
       "      <th>Session Count</th>\n",
       "    </tr>\n",
       "  </thead>\n",
       "  <tbody>\n",
       "    <tr>\n",
       "      <th>0</th>\n",
       "      <td>5001</td>\n",
       "      <td>8</td>\n",
       "    </tr>\n",
       "    <tr>\n",
       "      <th>1</th>\n",
       "      <td>5002</td>\n",
       "      <td>4</td>\n",
       "    </tr>\n",
       "    <tr>\n",
       "      <th>2</th>\n",
       "      <td>5004</td>\n",
       "      <td>1</td>\n",
       "    </tr>\n",
       "    <tr>\n",
       "      <th>3</th>\n",
       "      <td>5267</td>\n",
       "      <td>7</td>\n",
       "    </tr>\n",
       "    <tr>\n",
       "      <th>4</th>\n",
       "      <td>5338</td>\n",
       "      <td>4</td>\n",
       "    </tr>\n",
       "  </tbody>\n",
       "</table>\n",
       "</div>"
      ],
      "text/plain": [
       "   Customer ID  Session Count\n",
       "0         5001              8\n",
       "1         5002              4\n",
       "2         5004              1\n",
       "3         5267              7\n",
       "4         5338              4"
      ]
     },
     "execution_count": 392,
     "metadata": {},
     "output_type": "execute_result"
    }
   ],
   "source": [
    "# Calculate the number of listening sessions for each customer\n",
    "customer_sessions = (listening_audio.groupby('Customer ID')['Session ID']\n",
    "                     .nunique()\n",
    "                     .to_frame()\n",
    "                     .reset_index()\n",
    "                     .rename(columns={'Session ID':'Session Count'}))\n",
    "customer_sessions.head()"
   ]
  },
  {
   "cell_type": "code",
   "execution_count": 394,
   "metadata": {},
   "outputs": [
    {
     "data": {
      "text/html": [
       "<div>\n",
       "<style scoped>\n",
       "    .dataframe tbody tr th:only-of-type {\n",
       "        vertical-align: middle;\n",
       "    }\n",
       "\n",
       "    .dataframe tbody tr th {\n",
       "        vertical-align: top;\n",
       "    }\n",
       "\n",
       "    .dataframe thead th {\n",
       "        text-align: right;\n",
       "    }\n",
       "</style>\n",
       "<table border=\"1\" class=\"dataframe\">\n",
       "  <thead>\n",
       "    <tr style=\"text-align: right;\">\n",
       "      <th></th>\n",
       "      <th>Customer ID</th>\n",
       "      <th>Cancelled</th>\n",
       "      <th>Discount?</th>\n",
       "      <th>Session Count</th>\n",
       "    </tr>\n",
       "  </thead>\n",
       "  <tbody>\n",
       "    <tr>\n",
       "      <th>0</th>\n",
       "      <td>5001</td>\n",
       "      <td>0</td>\n",
       "      <td>0</td>\n",
       "      <td>8</td>\n",
       "    </tr>\n",
       "    <tr>\n",
       "      <th>1</th>\n",
       "      <td>5002</td>\n",
       "      <td>0</td>\n",
       "      <td>0</td>\n",
       "      <td>4</td>\n",
       "    </tr>\n",
       "    <tr>\n",
       "      <th>2</th>\n",
       "      <td>5004</td>\n",
       "      <td>1</td>\n",
       "      <td>0</td>\n",
       "      <td>1</td>\n",
       "    </tr>\n",
       "    <tr>\n",
       "      <th>3</th>\n",
       "      <td>5267</td>\n",
       "      <td>0</td>\n",
       "      <td>0</td>\n",
       "      <td>7</td>\n",
       "    </tr>\n",
       "    <tr>\n",
       "      <th>4</th>\n",
       "      <td>5338</td>\n",
       "      <td>0</td>\n",
       "      <td>0</td>\n",
       "      <td>4</td>\n",
       "    </tr>\n",
       "  </tbody>\n",
       "</table>\n",
       "</div>"
      ],
      "text/plain": [
       "   Customer ID  Cancelled  Discount?  Session Count\n",
       "0         5001          0          0              8\n",
       "1         5002          0          0              4\n",
       "2         5004          1          0              1\n",
       "3         5267          0          0              7\n",
       "4         5338          0          0              4"
      ]
     },
     "execution_count": 394,
     "metadata": {},
     "output_type": "execute_result"
    }
   ],
   "source": [
    "model_df = model_df.merge(customer_sessions, how='left', on='Customer ID')\n",
    "model_df.head()"
   ]
  },
  {
   "cell_type": "code",
   "execution_count": 404,
   "metadata": {},
   "outputs": [
    {
     "data": {
      "text/html": [
       "<div>\n",
       "<style scoped>\n",
       "    .dataframe tbody tr th:only-of-type {\n",
       "        vertical-align: middle;\n",
       "    }\n",
       "\n",
       "    .dataframe tbody tr th {\n",
       "        vertical-align: top;\n",
       "    }\n",
       "\n",
       "    .dataframe thead th {\n",
       "        text-align: right;\n",
       "    }\n",
       "</style>\n",
       "<table border=\"1\" class=\"dataframe\">\n",
       "  <thead>\n",
       "    <tr style=\"text-align: right;\">\n",
       "      <th></th>\n",
       "      <th>Comedy</th>\n",
       "      <th>Country</th>\n",
       "      <th>Hip Hop</th>\n",
       "      <th>Jazz</th>\n",
       "      <th>Pop</th>\n",
       "      <th>True Crime</th>\n",
       "    </tr>\n",
       "  </thead>\n",
       "  <tbody>\n",
       "    <tr>\n",
       "      <th>0</th>\n",
       "      <td>0</td>\n",
       "      <td>0</td>\n",
       "      <td>0</td>\n",
       "      <td>0</td>\n",
       "      <td>1</td>\n",
       "      <td>0</td>\n",
       "    </tr>\n",
       "    <tr>\n",
       "      <th>1</th>\n",
       "      <td>0</td>\n",
       "      <td>0</td>\n",
       "      <td>0</td>\n",
       "      <td>0</td>\n",
       "      <td>1</td>\n",
       "      <td>0</td>\n",
       "    </tr>\n",
       "    <tr>\n",
       "      <th>2</th>\n",
       "      <td>0</td>\n",
       "      <td>0</td>\n",
       "      <td>0</td>\n",
       "      <td>0</td>\n",
       "      <td>1</td>\n",
       "      <td>0</td>\n",
       "    </tr>\n",
       "    <tr>\n",
       "      <th>3</th>\n",
       "      <td>0</td>\n",
       "      <td>0</td>\n",
       "      <td>0</td>\n",
       "      <td>0</td>\n",
       "      <td>1</td>\n",
       "      <td>0</td>\n",
       "    </tr>\n",
       "    <tr>\n",
       "      <th>4</th>\n",
       "      <td>0</td>\n",
       "      <td>0</td>\n",
       "      <td>0</td>\n",
       "      <td>0</td>\n",
       "      <td>1</td>\n",
       "      <td>0</td>\n",
       "    </tr>\n",
       "    <tr>\n",
       "      <th>...</th>\n",
       "      <td>...</td>\n",
       "      <td>...</td>\n",
       "      <td>...</td>\n",
       "      <td>...</td>\n",
       "      <td>...</td>\n",
       "      <td>...</td>\n",
       "    </tr>\n",
       "    <tr>\n",
       "      <th>500</th>\n",
       "      <td>0</td>\n",
       "      <td>0</td>\n",
       "      <td>0</td>\n",
       "      <td>1</td>\n",
       "      <td>0</td>\n",
       "      <td>0</td>\n",
       "    </tr>\n",
       "    <tr>\n",
       "      <th>501</th>\n",
       "      <td>1</td>\n",
       "      <td>0</td>\n",
       "      <td>0</td>\n",
       "      <td>0</td>\n",
       "      <td>0</td>\n",
       "      <td>0</td>\n",
       "    </tr>\n",
       "    <tr>\n",
       "      <th>502</th>\n",
       "      <td>0</td>\n",
       "      <td>0</td>\n",
       "      <td>1</td>\n",
       "      <td>0</td>\n",
       "      <td>0</td>\n",
       "      <td>0</td>\n",
       "    </tr>\n",
       "    <tr>\n",
       "      <th>503</th>\n",
       "      <td>0</td>\n",
       "      <td>0</td>\n",
       "      <td>1</td>\n",
       "      <td>0</td>\n",
       "      <td>0</td>\n",
       "      <td>0</td>\n",
       "    </tr>\n",
       "    <tr>\n",
       "      <th>504</th>\n",
       "      <td>0</td>\n",
       "      <td>0</td>\n",
       "      <td>1</td>\n",
       "      <td>0</td>\n",
       "      <td>0</td>\n",
       "      <td>0</td>\n",
       "    </tr>\n",
       "  </tbody>\n",
       "</table>\n",
       "<p>505 rows × 6 columns</p>\n",
       "</div>"
      ],
      "text/plain": [
       "     Comedy  Country  Hip Hop  Jazz  Pop  True Crime\n",
       "0         0        0        0     0    1           0\n",
       "1         0        0        0     0    1           0\n",
       "2         0        0        0     0    1           0\n",
       "3         0        0        0     0    1           0\n",
       "4         0        0        0     0    1           0\n",
       "..      ...      ...      ...   ...  ...         ...\n",
       "500       0        0        0     1    0           0\n",
       "501       1        0        0     0    0           0\n",
       "502       0        0        1     0    0           0\n",
       "503       0        0        1     0    0           0\n",
       "504       0        0        1     0    0           0\n",
       "\n",
       "[505 rows x 6 columns]"
      ]
     },
     "execution_count": 404,
     "metadata": {},
     "output_type": "execute_result"
    }
   ],
   "source": [
    "# Calculate Dummy variables for each genre\n",
    "pd.get_dummies(listening_audio.Genre, dtype=int)"
   ]
  },
  {
   "cell_type": "code",
   "execution_count": 412,
   "metadata": {},
   "outputs": [
    {
     "data": {
      "text/html": [
       "<div>\n",
       "<style scoped>\n",
       "    .dataframe tbody tr th:only-of-type {\n",
       "        vertical-align: middle;\n",
       "    }\n",
       "\n",
       "    .dataframe tbody tr th {\n",
       "        vertical-align: top;\n",
       "    }\n",
       "\n",
       "    .dataframe thead th {\n",
       "        text-align: right;\n",
       "    }\n",
       "</style>\n",
       "<table border=\"1\" class=\"dataframe\">\n",
       "  <thead>\n",
       "    <tr style=\"text-align: right;\">\n",
       "      <th></th>\n",
       "      <th>Customer ID</th>\n",
       "      <th>Comedy</th>\n",
       "      <th>Country</th>\n",
       "      <th>Hip Hop</th>\n",
       "      <th>Jazz</th>\n",
       "      <th>Pop</th>\n",
       "      <th>True Crime</th>\n",
       "    </tr>\n",
       "  </thead>\n",
       "  <tbody>\n",
       "    <tr>\n",
       "      <th>0</th>\n",
       "      <td>5001</td>\n",
       "      <td>0</td>\n",
       "      <td>0</td>\n",
       "      <td>0</td>\n",
       "      <td>0</td>\n",
       "      <td>1</td>\n",
       "      <td>0</td>\n",
       "    </tr>\n",
       "    <tr>\n",
       "      <th>1</th>\n",
       "      <td>5001</td>\n",
       "      <td>0</td>\n",
       "      <td>0</td>\n",
       "      <td>0</td>\n",
       "      <td>0</td>\n",
       "      <td>1</td>\n",
       "      <td>0</td>\n",
       "    </tr>\n",
       "    <tr>\n",
       "      <th>2</th>\n",
       "      <td>5001</td>\n",
       "      <td>0</td>\n",
       "      <td>0</td>\n",
       "      <td>0</td>\n",
       "      <td>0</td>\n",
       "      <td>1</td>\n",
       "      <td>0</td>\n",
       "    </tr>\n",
       "    <tr>\n",
       "      <th>3</th>\n",
       "      <td>5001</td>\n",
       "      <td>0</td>\n",
       "      <td>0</td>\n",
       "      <td>0</td>\n",
       "      <td>0</td>\n",
       "      <td>1</td>\n",
       "      <td>0</td>\n",
       "    </tr>\n",
       "    <tr>\n",
       "      <th>4</th>\n",
       "      <td>5001</td>\n",
       "      <td>0</td>\n",
       "      <td>0</td>\n",
       "      <td>0</td>\n",
       "      <td>0</td>\n",
       "      <td>1</td>\n",
       "      <td>0</td>\n",
       "    </tr>\n",
       "    <tr>\n",
       "      <th>...</th>\n",
       "      <td>...</td>\n",
       "      <td>...</td>\n",
       "      <td>...</td>\n",
       "      <td>...</td>\n",
       "      <td>...</td>\n",
       "      <td>...</td>\n",
       "      <td>...</td>\n",
       "    </tr>\n",
       "    <tr>\n",
       "      <th>500</th>\n",
       "      <td>7579</td>\n",
       "      <td>0</td>\n",
       "      <td>0</td>\n",
       "      <td>0</td>\n",
       "      <td>1</td>\n",
       "      <td>0</td>\n",
       "      <td>0</td>\n",
       "    </tr>\n",
       "    <tr>\n",
       "      <th>501</th>\n",
       "      <td>6588</td>\n",
       "      <td>1</td>\n",
       "      <td>0</td>\n",
       "      <td>0</td>\n",
       "      <td>0</td>\n",
       "      <td>0</td>\n",
       "      <td>0</td>\n",
       "    </tr>\n",
       "    <tr>\n",
       "      <th>502</th>\n",
       "      <td>5763</td>\n",
       "      <td>0</td>\n",
       "      <td>0</td>\n",
       "      <td>1</td>\n",
       "      <td>0</td>\n",
       "      <td>0</td>\n",
       "      <td>0</td>\n",
       "    </tr>\n",
       "    <tr>\n",
       "      <th>503</th>\n",
       "      <td>5763</td>\n",
       "      <td>0</td>\n",
       "      <td>0</td>\n",
       "      <td>1</td>\n",
       "      <td>0</td>\n",
       "      <td>0</td>\n",
       "      <td>0</td>\n",
       "    </tr>\n",
       "    <tr>\n",
       "      <th>504</th>\n",
       "      <td>5763</td>\n",
       "      <td>0</td>\n",
       "      <td>0</td>\n",
       "      <td>1</td>\n",
       "      <td>0</td>\n",
       "      <td>0</td>\n",
       "      <td>0</td>\n",
       "    </tr>\n",
       "  </tbody>\n",
       "</table>\n",
       "<p>505 rows × 7 columns</p>\n",
       "</div>"
      ],
      "text/plain": [
       "     Customer ID  Comedy  Country  Hip Hop  Jazz  Pop  True Crime\n",
       "0           5001       0        0        0     0    1           0\n",
       "1           5001       0        0        0     0    1           0\n",
       "2           5001       0        0        0     0    1           0\n",
       "3           5001       0        0        0     0    1           0\n",
       "4           5001       0        0        0     0    1           0\n",
       "..           ...     ...      ...      ...   ...  ...         ...\n",
       "500         7579       0        0        0     1    0           0\n",
       "501         6588       1        0        0     0    0           0\n",
       "502         5763       0        0        1     0    0           0\n",
       "503         5763       0        0        1     0    0           0\n",
       "504         5763       0        0        1     0    0           0\n",
       "\n",
       "[505 rows x 7 columns]"
      ]
     },
     "execution_count": 412,
     "metadata": {},
     "output_type": "execute_result"
    }
   ],
   "source": [
    "# Combine with customer id\n",
    "pd.concat([listening_audio['Customer ID'], pd.get_dummies(listening_audio.Genre, dtype=int)], axis=1)"
   ]
  },
  {
   "cell_type": "code",
   "execution_count": 414,
   "metadata": {},
   "outputs": [
    {
     "data": {
      "text/html": [
       "<div>\n",
       "<style scoped>\n",
       "    .dataframe tbody tr th:only-of-type {\n",
       "        vertical-align: middle;\n",
       "    }\n",
       "\n",
       "    .dataframe tbody tr th {\n",
       "        vertical-align: top;\n",
       "    }\n",
       "\n",
       "    .dataframe thead th {\n",
       "        text-align: right;\n",
       "    }\n",
       "</style>\n",
       "<table border=\"1\" class=\"dataframe\">\n",
       "  <thead>\n",
       "    <tr style=\"text-align: right;\">\n",
       "      <th></th>\n",
       "      <th>Customer ID</th>\n",
       "      <th>Comedy</th>\n",
       "      <th>Country</th>\n",
       "      <th>Hip Hop</th>\n",
       "      <th>Jazz</th>\n",
       "      <th>Pop</th>\n",
       "      <th>True Crime</th>\n",
       "    </tr>\n",
       "  </thead>\n",
       "  <tbody>\n",
       "    <tr>\n",
       "      <th>0</th>\n",
       "      <td>5001</td>\n",
       "      <td>0</td>\n",
       "      <td>0</td>\n",
       "      <td>26</td>\n",
       "      <td>0</td>\n",
       "      <td>34</td>\n",
       "      <td>0</td>\n",
       "    </tr>\n",
       "    <tr>\n",
       "      <th>1</th>\n",
       "      <td>5002</td>\n",
       "      <td>0</td>\n",
       "      <td>22</td>\n",
       "      <td>0</td>\n",
       "      <td>0</td>\n",
       "      <td>0</td>\n",
       "      <td>0</td>\n",
       "    </tr>\n",
       "    <tr>\n",
       "      <th>2</th>\n",
       "      <td>5004</td>\n",
       "      <td>0</td>\n",
       "      <td>0</td>\n",
       "      <td>0</td>\n",
       "      <td>0</td>\n",
       "      <td>9</td>\n",
       "      <td>0</td>\n",
       "    </tr>\n",
       "    <tr>\n",
       "      <th>3</th>\n",
       "      <td>5267</td>\n",
       "      <td>0</td>\n",
       "      <td>0</td>\n",
       "      <td>22</td>\n",
       "      <td>0</td>\n",
       "      <td>23</td>\n",
       "      <td>0</td>\n",
       "    </tr>\n",
       "    <tr>\n",
       "      <th>4</th>\n",
       "      <td>5338</td>\n",
       "      <td>0</td>\n",
       "      <td>18</td>\n",
       "      <td>0</td>\n",
       "      <td>0</td>\n",
       "      <td>0</td>\n",
       "      <td>0</td>\n",
       "    </tr>\n",
       "  </tbody>\n",
       "</table>\n",
       "</div>"
      ],
      "text/plain": [
       "   Customer ID  Comedy  Country  Hip Hop  Jazz  Pop  True Crime\n",
       "0         5001       0        0       26     0   34           0\n",
       "1         5002       0       22        0     0    0           0\n",
       "2         5004       0        0        0     0    9           0\n",
       "3         5267       0        0       22     0   23           0\n",
       "4         5338       0       18        0     0    0           0"
      ]
     },
     "execution_count": 414,
     "metadata": {},
     "output_type": "execute_result"
    }
   ],
   "source": [
    "genres = pd.concat([listening_audio['Customer ID'], pd.get_dummies(listening_audio.Genre, dtype=int)], axis=1).groupby('Customer ID').sum().reset_index()\n",
    "genres.head()"
   ]
  },
  {
   "cell_type": "code",
   "execution_count": 416,
   "metadata": {},
   "outputs": [
    {
     "data": {
      "text/html": [
       "<div>\n",
       "<style scoped>\n",
       "    .dataframe tbody tr th:only-of-type {\n",
       "        vertical-align: middle;\n",
       "    }\n",
       "\n",
       "    .dataframe tbody tr th {\n",
       "        vertical-align: top;\n",
       "    }\n",
       "\n",
       "    .dataframe thead th {\n",
       "        text-align: right;\n",
       "    }\n",
       "</style>\n",
       "<table border=\"1\" class=\"dataframe\">\n",
       "  <thead>\n",
       "    <tr style=\"text-align: right;\">\n",
       "      <th></th>\n",
       "      <th>Customer ID</th>\n",
       "      <th>Total Audio</th>\n",
       "    </tr>\n",
       "  </thead>\n",
       "  <tbody>\n",
       "    <tr>\n",
       "      <th>0</th>\n",
       "      <td>5001</td>\n",
       "      <td>60</td>\n",
       "    </tr>\n",
       "    <tr>\n",
       "      <th>1</th>\n",
       "      <td>5002</td>\n",
       "      <td>22</td>\n",
       "    </tr>\n",
       "    <tr>\n",
       "      <th>2</th>\n",
       "      <td>5004</td>\n",
       "      <td>9</td>\n",
       "    </tr>\n",
       "    <tr>\n",
       "      <th>3</th>\n",
       "      <td>5267</td>\n",
       "      <td>45</td>\n",
       "    </tr>\n",
       "    <tr>\n",
       "      <th>4</th>\n",
       "      <td>5338</td>\n",
       "      <td>18</td>\n",
       "    </tr>\n",
       "  </tbody>\n",
       "</table>\n",
       "</div>"
      ],
      "text/plain": [
       "   Customer ID  Total Audio\n",
       "0         5001           60\n",
       "1         5002           22\n",
       "2         5004            9\n",
       "3         5267           45\n",
       "4         5338           18"
      ]
     },
     "execution_count": 416,
     "metadata": {},
     "output_type": "execute_result"
    }
   ],
   "source": [
    "total_audio = listening_audio.groupby('Customer ID')['Audio ID'].count().rename('Total Audio').to_frame().reset_index()\n",
    "total_audio.head()"
   ]
  },
  {
   "cell_type": "code",
   "execution_count": 420,
   "metadata": {},
   "outputs": [
    {
     "data": {
      "text/html": [
       "<div>\n",
       "<style scoped>\n",
       "    .dataframe tbody tr th:only-of-type {\n",
       "        vertical-align: middle;\n",
       "    }\n",
       "\n",
       "    .dataframe tbody tr th {\n",
       "        vertical-align: top;\n",
       "    }\n",
       "\n",
       "    .dataframe thead th {\n",
       "        text-align: right;\n",
       "    }\n",
       "</style>\n",
       "<table border=\"1\" class=\"dataframe\">\n",
       "  <thead>\n",
       "    <tr style=\"text-align: right;\">\n",
       "      <th></th>\n",
       "      <th>Customer ID</th>\n",
       "      <th>Comedy</th>\n",
       "      <th>Country</th>\n",
       "      <th>Hip Hop</th>\n",
       "      <th>Jazz</th>\n",
       "      <th>Pop</th>\n",
       "      <th>True Crime</th>\n",
       "      <th>Total Audio</th>\n",
       "    </tr>\n",
       "  </thead>\n",
       "  <tbody>\n",
       "    <tr>\n",
       "      <th>0</th>\n",
       "      <td>5001</td>\n",
       "      <td>0</td>\n",
       "      <td>0</td>\n",
       "      <td>26</td>\n",
       "      <td>0</td>\n",
       "      <td>34</td>\n",
       "      <td>0</td>\n",
       "      <td>60</td>\n",
       "    </tr>\n",
       "    <tr>\n",
       "      <th>1</th>\n",
       "      <td>5002</td>\n",
       "      <td>0</td>\n",
       "      <td>22</td>\n",
       "      <td>0</td>\n",
       "      <td>0</td>\n",
       "      <td>0</td>\n",
       "      <td>0</td>\n",
       "      <td>22</td>\n",
       "    </tr>\n",
       "    <tr>\n",
       "      <th>2</th>\n",
       "      <td>5004</td>\n",
       "      <td>0</td>\n",
       "      <td>0</td>\n",
       "      <td>0</td>\n",
       "      <td>0</td>\n",
       "      <td>9</td>\n",
       "      <td>0</td>\n",
       "      <td>9</td>\n",
       "    </tr>\n",
       "    <tr>\n",
       "      <th>3</th>\n",
       "      <td>5267</td>\n",
       "      <td>0</td>\n",
       "      <td>0</td>\n",
       "      <td>22</td>\n",
       "      <td>0</td>\n",
       "      <td>23</td>\n",
       "      <td>0</td>\n",
       "      <td>45</td>\n",
       "    </tr>\n",
       "    <tr>\n",
       "      <th>4</th>\n",
       "      <td>5338</td>\n",
       "      <td>0</td>\n",
       "      <td>18</td>\n",
       "      <td>0</td>\n",
       "      <td>0</td>\n",
       "      <td>0</td>\n",
       "      <td>0</td>\n",
       "      <td>18</td>\n",
       "    </tr>\n",
       "  </tbody>\n",
       "</table>\n",
       "</div>"
      ],
      "text/plain": [
       "   Customer ID  Comedy  Country  Hip Hop  Jazz  Pop  True Crime  Total Audio\n",
       "0         5001       0        0       26     0   34           0           60\n",
       "1         5002       0       22        0     0    0           0           22\n",
       "2         5004       0        0        0     0    9           0            9\n",
       "3         5267       0        0       22     0   23           0           45\n",
       "4         5338       0       18        0     0    0           0           18"
      ]
     },
     "execution_count": 420,
     "metadata": {},
     "output_type": "execute_result"
    }
   ],
   "source": [
    "df_audio = genres.merge(total_audio, how='left', on='Customer ID')\n",
    "df_audio.head()"
   ]
  },
  {
   "cell_type": "code",
   "execution_count": 422,
   "metadata": {},
   "outputs": [
    {
     "data": {
      "text/html": [
       "<div>\n",
       "<style scoped>\n",
       "    .dataframe tbody tr th:only-of-type {\n",
       "        vertical-align: middle;\n",
       "    }\n",
       "\n",
       "    .dataframe tbody tr th {\n",
       "        vertical-align: top;\n",
       "    }\n",
       "\n",
       "    .dataframe thead th {\n",
       "        text-align: right;\n",
       "    }\n",
       "</style>\n",
       "<table border=\"1\" class=\"dataframe\">\n",
       "  <thead>\n",
       "    <tr style=\"text-align: right;\">\n",
       "      <th></th>\n",
       "      <th>Customer ID</th>\n",
       "      <th>Cancelled</th>\n",
       "      <th>Discount?</th>\n",
       "      <th>Session Count</th>\n",
       "      <th>Percent Pop</th>\n",
       "    </tr>\n",
       "  </thead>\n",
       "  <tbody>\n",
       "    <tr>\n",
       "      <th>0</th>\n",
       "      <td>5001</td>\n",
       "      <td>0</td>\n",
       "      <td>0</td>\n",
       "      <td>8</td>\n",
       "      <td>56.666667</td>\n",
       "    </tr>\n",
       "    <tr>\n",
       "      <th>1</th>\n",
       "      <td>5002</td>\n",
       "      <td>0</td>\n",
       "      <td>0</td>\n",
       "      <td>4</td>\n",
       "      <td>0.000000</td>\n",
       "    </tr>\n",
       "    <tr>\n",
       "      <th>2</th>\n",
       "      <td>5004</td>\n",
       "      <td>1</td>\n",
       "      <td>0</td>\n",
       "      <td>1</td>\n",
       "      <td>100.000000</td>\n",
       "    </tr>\n",
       "    <tr>\n",
       "      <th>3</th>\n",
       "      <td>5267</td>\n",
       "      <td>0</td>\n",
       "      <td>0</td>\n",
       "      <td>7</td>\n",
       "      <td>51.111111</td>\n",
       "    </tr>\n",
       "    <tr>\n",
       "      <th>4</th>\n",
       "      <td>5338</td>\n",
       "      <td>0</td>\n",
       "      <td>0</td>\n",
       "      <td>4</td>\n",
       "      <td>0.000000</td>\n",
       "    </tr>\n",
       "  </tbody>\n",
       "</table>\n",
       "</div>"
      ],
      "text/plain": [
       "   Customer ID  Cancelled  Discount?  Session Count  Percent Pop\n",
       "0         5001          0          0              8    56.666667\n",
       "1         5002          0          0              4     0.000000\n",
       "2         5004          1          0              1   100.000000\n",
       "3         5267          0          0              7    51.111111\n",
       "4         5338          0          0              4     0.000000"
      ]
     },
     "execution_count": 422,
     "metadata": {},
     "output_type": "execute_result"
    }
   ],
   "source": [
    "# Percent pop\n",
    "model_df['Percent Pop'] = df_audio.Pop / df_audio['Total Audio'] * 100\n",
    "model_df.head()\n"
   ]
  },
  {
   "cell_type": "code",
   "execution_count": 428,
   "metadata": {},
   "outputs": [
    {
     "data": {
      "text/html": [
       "<div>\n",
       "<style scoped>\n",
       "    .dataframe tbody tr th:only-of-type {\n",
       "        vertical-align: middle;\n",
       "    }\n",
       "\n",
       "    .dataframe tbody tr th {\n",
       "        vertical-align: top;\n",
       "    }\n",
       "\n",
       "    .dataframe thead th {\n",
       "        text-align: right;\n",
       "    }\n",
       "</style>\n",
       "<table border=\"1\" class=\"dataframe\">\n",
       "  <thead>\n",
       "    <tr style=\"text-align: right;\">\n",
       "      <th></th>\n",
       "      <th>Customer ID</th>\n",
       "      <th>Cancelled</th>\n",
       "      <th>Discount?</th>\n",
       "      <th>Session Count</th>\n",
       "      <th>Percent Pop</th>\n",
       "      <th>Percent Podcasts</th>\n",
       "    </tr>\n",
       "  </thead>\n",
       "  <tbody>\n",
       "    <tr>\n",
       "      <th>0</th>\n",
       "      <td>5001</td>\n",
       "      <td>0</td>\n",
       "      <td>0</td>\n",
       "      <td>8</td>\n",
       "      <td>56.666667</td>\n",
       "      <td>0.0</td>\n",
       "    </tr>\n",
       "    <tr>\n",
       "      <th>1</th>\n",
       "      <td>5002</td>\n",
       "      <td>0</td>\n",
       "      <td>0</td>\n",
       "      <td>4</td>\n",
       "      <td>0.000000</td>\n",
       "      <td>0.0</td>\n",
       "    </tr>\n",
       "    <tr>\n",
       "      <th>2</th>\n",
       "      <td>5004</td>\n",
       "      <td>1</td>\n",
       "      <td>0</td>\n",
       "      <td>1</td>\n",
       "      <td>100.000000</td>\n",
       "      <td>0.0</td>\n",
       "    </tr>\n",
       "    <tr>\n",
       "      <th>3</th>\n",
       "      <td>5267</td>\n",
       "      <td>0</td>\n",
       "      <td>0</td>\n",
       "      <td>7</td>\n",
       "      <td>51.111111</td>\n",
       "      <td>0.0</td>\n",
       "    </tr>\n",
       "    <tr>\n",
       "      <th>4</th>\n",
       "      <td>5338</td>\n",
       "      <td>0</td>\n",
       "      <td>0</td>\n",
       "      <td>4</td>\n",
       "      <td>0.000000</td>\n",
       "      <td>0.0</td>\n",
       "    </tr>\n",
       "  </tbody>\n",
       "</table>\n",
       "</div>"
      ],
      "text/plain": [
       "   Customer ID  Cancelled  Discount?  Session Count  Percent Pop  \\\n",
       "0         5001          0          0              8    56.666667   \n",
       "1         5002          0          0              4     0.000000   \n",
       "2         5004          1          0              1   100.000000   \n",
       "3         5267          0          0              7    51.111111   \n",
       "4         5338          0          0              4     0.000000   \n",
       "\n",
       "   Percent Podcasts  \n",
       "0               0.0  \n",
       "1               0.0  \n",
       "2               0.0  \n",
       "3               0.0  \n",
       "4               0.0  "
      ]
     },
     "execution_count": 428,
     "metadata": {},
     "output_type": "execute_result"
    }
   ],
   "source": [
    "# Percent podcasts\n",
    "model_df['Percent Podcasts'] = ((df_audio['Comedy'] + df_audio['True Crime']) / df_audio['Total Audio']) * 100\n",
    "model_df.head()\n"
   ]
  },
  {
   "cell_type": "markdown",
   "metadata": {},
   "source": [
    "Visualize the relationships in the modeling DataFrame using a pair plot:\n",
    "* What are some of your observations?\n",
    "* What variables might do a good job predicting customer cancellation?"
   ]
  },
  {
   "cell_type": "code",
   "execution_count": 430,
   "metadata": {},
   "outputs": [
    {
     "data": {
      "image/png": "[encoded data removed]",
      "text/plain": [
       "<Figure size 1500x1500 with 42 Axes>"
      ]
     },
     "metadata": {},
     "output_type": "display_data"
    }
   ],
   "source": [
    "sns.pairplot(model_df);"
   ]
  },
  {
   "cell_type": "code",
   "execution_count": 432,
   "metadata": {},
   "outputs": [
    {
     "data": {
      "text/html": [
       "<div>\n",
       "<style scoped>\n",
       "    .dataframe tbody tr th:only-of-type {\n",
       "        vertical-align: middle;\n",
       "    }\n",
       "\n",
       "    .dataframe tbody tr th {\n",
       "        vertical-align: top;\n",
       "    }\n",
       "\n",
       "    .dataframe thead th {\n",
       "        text-align: right;\n",
       "    }\n",
       "</style>\n",
       "<table border=\"1\" class=\"dataframe\">\n",
       "  <thead>\n",
       "    <tr style=\"text-align: right;\">\n",
       "      <th></th>\n",
       "      <th>Customer ID</th>\n",
       "      <th>Cancelled</th>\n",
       "      <th>Discount?</th>\n",
       "      <th>Session Count</th>\n",
       "      <th>Percent Pop</th>\n",
       "      <th>Percent Podcasts</th>\n",
       "    </tr>\n",
       "  </thead>\n",
       "  <tbody>\n",
       "    <tr>\n",
       "      <th>Customer ID</th>\n",
       "      <td>1.000000</td>\n",
       "      <td>0.269942</td>\n",
       "      <td>0.648514</td>\n",
       "      <td>-0.337083</td>\n",
       "      <td>-0.076129</td>\n",
       "      <td>0.083083</td>\n",
       "    </tr>\n",
       "    <tr>\n",
       "      <th>Cancelled</th>\n",
       "      <td>0.269942</td>\n",
       "      <td>1.000000</td>\n",
       "      <td>0.471825</td>\n",
       "      <td>-0.333739</td>\n",
       "      <td>0.585630</td>\n",
       "      <td>-0.035414</td>\n",
       "    </tr>\n",
       "    <tr>\n",
       "      <th>Discount?</th>\n",
       "      <td>0.648514</td>\n",
       "      <td>0.471825</td>\n",
       "      <td>1.000000</td>\n",
       "      <td>-0.048877</td>\n",
       "      <td>0.112675</td>\n",
       "      <td>0.062938</td>\n",
       "    </tr>\n",
       "    <tr>\n",
       "      <th>Session Count</th>\n",
       "      <td>-0.337083</td>\n",
       "      <td>-0.333739</td>\n",
       "      <td>-0.048877</td>\n",
       "      <td>1.000000</td>\n",
       "      <td>-0.131156</td>\n",
       "      <td>-0.125459</td>\n",
       "    </tr>\n",
       "    <tr>\n",
       "      <th>Percent Pop</th>\n",
       "      <td>-0.076129</td>\n",
       "      <td>0.585630</td>\n",
       "      <td>0.112675</td>\n",
       "      <td>-0.131156</td>\n",
       "      <td>1.000000</td>\n",
       "      <td>-0.487193</td>\n",
       "    </tr>\n",
       "    <tr>\n",
       "      <th>Percent Podcasts</th>\n",
       "      <td>0.083083</td>\n",
       "      <td>-0.035414</td>\n",
       "      <td>0.062938</td>\n",
       "      <td>-0.125459</td>\n",
       "      <td>-0.487193</td>\n",
       "      <td>1.000000</td>\n",
       "    </tr>\n",
       "  </tbody>\n",
       "</table>\n",
       "</div>"
      ],
      "text/plain": [
       "                  Customer ID  Cancelled  Discount?  Session Count  \\\n",
       "Customer ID          1.000000   0.269942   0.648514      -0.337083   \n",
       "Cancelled            0.269942   1.000000   0.471825      -0.333739   \n",
       "Discount?            0.648514   0.471825   1.000000      -0.048877   \n",
       "Session Count       -0.337083  -0.333739  -0.048877       1.000000   \n",
       "Percent Pop         -0.076129   0.585630   0.112675      -0.131156   \n",
       "Percent Podcasts     0.083083  -0.035414   0.062938      -0.125459   \n",
       "\n",
       "                  Percent Pop  Percent Podcasts  \n",
       "Customer ID         -0.076129          0.083083  \n",
       "Cancelled            0.585630         -0.035414  \n",
       "Discount?            0.112675          0.062938  \n",
       "Session Count       -0.131156         -0.125459  \n",
       "Percent Pop          1.000000         -0.487193  \n",
       "Percent Podcasts    -0.487193          1.000000  "
      ]
     },
     "execution_count": 432,
     "metadata": {},
     "output_type": "execute_result"
    }
   ],
   "source": [
    "model_df.corr()"
   ]
  },
  {
   "cell_type": "code",
   "execution_count": null,
   "metadata": {},
   "outputs": [],
   "source": [
    "# Observations\n",
    "## A discount is correlated with a cancellation\n",
    "## The more listening sessions, the few cancellations\n",
    "## The more pop music, the more cancellations\n",
    "## Podcast listening seems unrelated to cancellations"
   ]
  }
 ],
 "metadata": {
  "kernelspec": {
   "display_name": "Python [conda env:base] *",
   "language": "python",
   "name": "conda-base-py"
  },
  "language_info": {
   "codemirror_mode": {
    "name": "ipython",
    "version": 3
   },
   "file_extension": ".py",
   "mimetype": "text/x-python",
   "name": "python",
   "nbconvert_exporter": "python",
   "pygments_lexer": "ipython3",
   "version": "3.12.7"
  }
 },
 "nbformat": 4,
 "nbformat_minor": 4
}
